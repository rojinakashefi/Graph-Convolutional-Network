{
  "cells": [
    {
      "cell_type": "code",
      "execution_count": 1,
      "metadata": {
        "colab": {
          "base_uri": "https://localhost:8080/"
        },
        "id": "pFyLIA_fBWv5",
        "outputId": "05787578-fe29-41cc-c4c6-1aeaa61cd59e"
      },
      "outputs": [
        {
          "output_type": "stream",
          "name": "stdout",
          "text": [
            "Looking in indexes: https://pypi.org/simple, https://us-python.pkg.dev/colab-wheels/public/simple/\n",
            "Collecting pyvis\n",
            "  Downloading pyvis-0.3.2-py3-none-any.whl (756 kB)\n",
            "\u001b[2K     \u001b[90m━━━━━━━━━━━━━━━━━━━━━━━━━━━━━━━━━━━━━━━\u001b[0m \u001b[32m756.0/756.0 kB\u001b[0m \u001b[31m9.1 MB/s\u001b[0m eta \u001b[36m0:00:00\u001b[0m\n",
            "\u001b[?25hRequirement already satisfied: ipython>=5.3.0 in /usr/local/lib/python3.10/dist-packages (from pyvis) (7.34.0)\n",
            "Requirement already satisfied: jinja2>=2.9.6 in /usr/local/lib/python3.10/dist-packages (from pyvis) (3.1.2)\n",
            "Requirement already satisfied: jsonpickle>=1.4.1 in /usr/local/lib/python3.10/dist-packages (from pyvis) (3.0.1)\n",
            "Requirement already satisfied: networkx>=1.11 in /usr/local/lib/python3.10/dist-packages (from pyvis) (3.1)\n",
            "Requirement already satisfied: setuptools>=18.5 in /usr/local/lib/python3.10/dist-packages (from ipython>=5.3.0->pyvis) (67.7.2)\n",
            "Collecting jedi>=0.16 (from ipython>=5.3.0->pyvis)\n",
            "  Downloading jedi-0.18.2-py2.py3-none-any.whl (1.6 MB)\n",
            "\u001b[2K     \u001b[90m━━━━━━━━━━━━━━━━━━━━━━━━━━━━━━━━━━━━━━━━\u001b[0m \u001b[32m1.6/1.6 MB\u001b[0m \u001b[31m40.0 MB/s\u001b[0m eta \u001b[36m0:00:00\u001b[0m\n",
            "\u001b[?25hRequirement already satisfied: decorator in /usr/local/lib/python3.10/dist-packages (from ipython>=5.3.0->pyvis) (4.4.2)\n",
            "Requirement already satisfied: pickleshare in /usr/local/lib/python3.10/dist-packages (from ipython>=5.3.0->pyvis) (0.7.5)\n",
            "Requirement already satisfied: traitlets>=4.2 in /usr/local/lib/python3.10/dist-packages (from ipython>=5.3.0->pyvis) (5.7.1)\n",
            "Requirement already satisfied: prompt-toolkit!=3.0.0,!=3.0.1,<3.1.0,>=2.0.0 in /usr/local/lib/python3.10/dist-packages (from ipython>=5.3.0->pyvis) (3.0.38)\n",
            "Requirement already satisfied: pygments in /usr/local/lib/python3.10/dist-packages (from ipython>=5.3.0->pyvis) (2.14.0)\n",
            "Requirement already satisfied: backcall in /usr/local/lib/python3.10/dist-packages (from ipython>=5.3.0->pyvis) (0.2.0)\n",
            "Requirement already satisfied: matplotlib-inline in /usr/local/lib/python3.10/dist-packages (from ipython>=5.3.0->pyvis) (0.1.6)\n",
            "Requirement already satisfied: pexpect>4.3 in /usr/local/lib/python3.10/dist-packages (from ipython>=5.3.0->pyvis) (4.8.0)\n",
            "Requirement already satisfied: MarkupSafe>=2.0 in /usr/local/lib/python3.10/dist-packages (from jinja2>=2.9.6->pyvis) (2.1.2)\n",
            "Requirement already satisfied: parso<0.9.0,>=0.8.0 in /usr/local/lib/python3.10/dist-packages (from jedi>=0.16->ipython>=5.3.0->pyvis) (0.8.3)\n",
            "Requirement already satisfied: ptyprocess>=0.5 in /usr/local/lib/python3.10/dist-packages (from pexpect>4.3->ipython>=5.3.0->pyvis) (0.7.0)\n",
            "Requirement already satisfied: wcwidth in /usr/local/lib/python3.10/dist-packages (from prompt-toolkit!=3.0.0,!=3.0.1,<3.1.0,>=2.0.0->ipython>=5.3.0->pyvis) (0.2.6)\n",
            "Installing collected packages: jedi, pyvis\n",
            "Successfully installed jedi-0.18.2 pyvis-0.3.2\n"
          ]
        }
      ],
      "source": [
        "!pip install pyvis"
      ],
      "id": "pFyLIA_fBWv5"
    },
    {
      "cell_type": "code",
      "execution_count": 2,
      "metadata": {
        "id": "f9140096"
      },
      "outputs": [],
      "source": [
        "import pandas as pd\n",
        "import os\n",
        "import numpy as np\n",
        "import random\n",
        "import matplotlib.pyplot as plt\n",
        "import scipy.sparse as sp\n",
        "from nltk.corpus import wordnet as wn\n",
        "from sklearn.feature_extraction.text import TfidfVectorizer\n",
        "from scipy.spatial.distance import cosine\n",
        "from collections import defaultdict\n",
        "import torch\n",
        "import math\n",
        "from torch.nn.parameter import Parameter\n",
        "from torch.nn.modules.module import Module\n",
        "import torch.nn as nn\n",
        "import torch.nn.functional as F\n",
        "import torch.optim as optim\n",
        "from pyvis.network import Network\n",
        "import time"
      ],
      "id": "f9140096"
    },
    {
      "cell_type": "code",
      "execution_count": 3,
      "metadata": {
        "colab": {
          "base_uri": "https://localhost:8080/"
        },
        "id": "zWhXaw387vuo",
        "outputId": "245b1356-d2b9-4928-94ac-b28c9b25a63d"
      },
      "outputs": [
        {
          "output_type": "stream",
          "name": "stdout",
          "text": [
            "Mounted at /content/drive/\n"
          ]
        }
      ],
      "source": [
        "from google.colab import drive\n",
        "drive.mount('/content/drive/')"
      ],
      "id": "zWhXaw387vuo"
    },
    {
      "cell_type": "markdown",
      "metadata": {
        "id": "59b1e59a"
      },
      "source": [
        "## Word-Word & Word-doc Weight\n",
        "\n"
      ],
      "id": "59b1e59a"
    },
    {
      "cell_type": "code",
      "execution_count": 4,
      "metadata": {
        "id": "a0017353"
      },
      "outputs": [],
      "source": [
        "synthea_df = pd.read_csv('/content/drive/MyDrive/data/synthea.csv')"
      ],
      "id": "a0017353"
    },
    {
      "cell_type": "code",
      "execution_count": 5,
      "metadata": {
        "colab": {
          "base_uri": "https://localhost:8080/"
        },
        "id": "a166a9a6",
        "outputId": "c7ff2f75-666a-499e-d588-55890c075804",
        "scrolled": true
      },
      "outputs": [
        {
          "output_type": "stream",
          "name": "stdout",
          "text": [
            "724 543 109 72\n"
          ]
        }
      ],
      "source": [
        "size = len(synthea_df)\n",
        "train_size = int(0.75*size)\n",
        "val_size = int(0.1*size)\n",
        "test_size = size - train_size - val_size\n",
        "print(size, train_size, test_size, val_size)"
      ],
      "id": "a166a9a6"
    },
    {
      "cell_type": "code",
      "execution_count": 6,
      "metadata": {
        "id": "19e622db"
      },
      "outputs": [],
      "source": [
        "shuffled_id = np.arange(size)\n",
        "random.shuffle(shuffled_id)"
      ],
      "id": "19e622db"
    },
    {
      "cell_type": "code",
      "execution_count": 7,
      "metadata": {
        "id": "OUTRC3UHAf6d"
      },
      "outputs": [],
      "source": [
        "shuffled_document = synthea_df['Document'][shuffled_id]\n",
        "shuffled_labels = synthea_df['Condition'].values[shuffled_id]"
      ],
      "id": "OUTRC3UHAf6d"
    },
    {
      "cell_type": "code",
      "execution_count": 8,
      "metadata": {
        "colab": {
          "base_uri": "https://localhost:8080/"
        },
        "id": "KHl4T3aWLe3W",
        "outputId": "52096436-5803-4b4b-ab57-213b14b02f0f"
      },
      "outputs": [
        {
          "output_type": "stream",
          "name": "stdout",
          "text": [
            "724\n",
            "724\n"
          ]
        }
      ],
      "source": [
        "print(len(shuffled_document))\n",
        "print(len(shuffled_labels))"
      ],
      "id": "KHl4T3aWLe3W"
    },
    {
      "cell_type": "code",
      "execution_count": 9,
      "metadata": {
        "id": "b0e96e2a"
      },
      "outputs": [],
      "source": [
        "labels_list = list(synthea_df['Condition'].unique())"
      ],
      "id": "b0e96e2a"
    },
    {
      "cell_type": "code",
      "execution_count": 10,
      "metadata": {
        "colab": {
          "base_uri": "https://localhost:8080/"
        },
        "id": "mxBvSekYBgZx",
        "outputId": "7f8261d4-3cec-4e24-fa4e-a9ab88bed0d0"
      },
      "outputs": [
        {
          "output_type": "execute_result",
          "data": {
            "text/plain": [
              "[10509002, 15777000, 444814009, 65363002]"
            ]
          },
          "metadata": {},
          "execution_count": 10
        }
      ],
      "source": [
        "labels_list"
      ],
      "id": "mxBvSekYBgZx"
    },
    {
      "cell_type": "code",
      "execution_count": 11,
      "metadata": {
        "id": "e18eb39c"
      },
      "outputs": [],
      "source": [
        "# build vocab\n",
        "word_freq = defaultdict(lambda : 0)\n",
        "word_set = set()\n",
        "for doc_words in shuffled_document:\n",
        "    words = doc_words.split()\n",
        "    for word in words:\n",
        "        word_set.add(word)\n",
        "        word_freq[word] += 1\n",
        "\n",
        "vocab = list(word_set)\n",
        "vocab_size = len(vocab)\n",
        "word_embeddings_dim = vocab_size"
      ],
      "id": "e18eb39c"
    },
    {
      "cell_type": "code",
      "execution_count": 12,
      "metadata": {
        "colab": {
          "base_uri": "https://localhost:8080/"
        },
        "id": "fF2R1kQeIcVW",
        "outputId": "6362258b-d3c3-47e5-a9e8-96bb0089b0ea"
      },
      "outputs": [
        {
          "output_type": "stream",
          "name": "stdout",
          "text": [
            "['73761001', '824184']\n"
          ]
        }
      ],
      "source": [
        "print(words)"
      ],
      "id": "fF2R1kQeIcVW"
    },
    {
      "cell_type": "code",
      "execution_count": 13,
      "metadata": {
        "colab": {
          "base_uri": "https://localhost:8080/"
        },
        "id": "_TlSi8DcBnLS",
        "outputId": "82a582ff-549c-4a51-c474-b6fbb44d6fa9"
      },
      "outputs": [
        {
          "output_type": "stream",
          "name": "stdout",
          "text": [
            "['46706006', '997488', '755621000000101', '834101', '757594']\n",
            "3\n",
            "53\n"
          ]
        }
      ],
      "source": [
        "print(vocab[:5])\n",
        "print(word_freq['239981'])\n",
        "print(vocab_size)"
      ],
      "id": "_TlSi8DcBnLS"
    },
    {
      "cell_type": "code",
      "execution_count": 14,
      "metadata": {
        "colab": {
          "base_uri": "https://localhost:8080/"
        },
        "id": "735cd224",
        "outputId": "9134b2b6-77a8-47b7-8995-641415cc7c77"
      },
      "outputs": [
        {
          "output_type": "stream",
          "name": "stdout",
          "text": [
            "defaultdict(<function <lambda> at 0x7f603a7dea70>, {'311791003': [0, 5, 19, 20, 24, 29, 38, 47, 48, 50, 65, 67, 73, 77, 79, 84, 88, 97, 109, 113, 120, 121, 148, 153, 154, 155, 159, 162, 163, 184, 187, 191, 199, 200, 210, 214, 217, 225, 226, 228, 236, 244, 245, 247, 250, 253, 262, 269, 276, 285, 289, 292, 297, 298, 311, 313, 318, 329, 331, 337, 342, 345, 348, 349, 364, 367, 377, 395, 413, 419, 423, 425, 426, 433, 439, 444, 462, 463, 464, 467, 472, 486, 487, 496, 500, 505, 506, 507, 510, 513, 514, 515, 525, 532, 541, 542, 561, 576, 582, 583, 588, 593, 600, 606, 613, 618, 627, 633, 635, 656, 657, 664, 668, 681, 686, 687, 691, 697, 698, 706, 717, 721], '282464': [0, 5, 19, 20, 24, 48, 50, 97, 109, 113, 155, 186, 191, 194, 210, 217, 225, 228, 236, 244, 247, 248, 253, 262, 269, 289, 297, 298, 313, 318, 364, 367, 413, 419, 425, 439, 444, 462, 467, 487, 507, 513, 514, 515, 541, 561, 576, 613, 627, 635, 657, 664, 697, 698, 717, 721], '392151': [0, 5, 19, 20, 38, 47, 48, 50, 65, 67, 88, 109, 148, 155, 159, 162, 163, 184, 186, 191, 194, 214, 217, 225, 236, 244, 248, 250, 253, 269, 285, 289, 292, 297, 298, 311, 313, 318, 345, 348, 364, 377, 395, 413, 419, 423, 425, 433, 439, 444, 462, 472, 486, 487, 505, 506, 507, 513, 515, 541, 542, 561, 582, 588, 613, 618, 627, 633, 635, 664, 668, 687, 691, 697, 698, 706, 721], '73761001': [1, 3, 4, 6, 10, 11, 13, 16, 23, 41, 43, 45, 52, 58, 60, 64, 66, 71, 75, 76, 78, 80, 81, 82, 86, 87, 94, 95, 102, 108, 115, 116, 117, 118, 119, 123, 127, 130, 131, 135, 136, 138, 140, 143, 156, 160, 167, 168, 173, 181, 182, 189, 192, 195, 201, 202, 206, 208, 209, 212, 213, 215, 220, 233, 235, 238, 251, 256, 257, 263, 264, 265, 268, 271, 274, 275, 282, 284, 287, 288, 293, 295, 300, 312, 316, 317, 321, 323, 324, 325, 328, 344, 355, 359, 362, 373, 374, 376, 379, 384, 386, 392, 394, 399, 400, 402, 410, 414, 416, 437, 438, 440, 452, 453, 454, 464, 465, 470, 477, 479, 482, 483, 489, 490, 494, 495, 498, 501, 502, 503, 511, 519, 520, 528, 531, 538, 546, 550, 552, 554, 555, 558, 562, 563, 566, 567, 568, 591, 608, 611, 614, 619, 628, 634, 636, 642, 644, 654, 663, 666, 667, 672, 673, 675, 679, 680, 696, 701, 705, 707, 708, 712, 713, 722, 723], '834060': [1, 3, 4, 7, 10, 11, 13, 16, 23, 25, 33, 36, 41, 49, 53, 54, 58, 63, 64, 66, 71, 80, 81, 82, 86, 94, 95, 99, 100, 104, 108, 114, 116, 118, 119, 120, 127, 129, 130, 134, 135, 136, 138, 140, 142, 145, 149, 152, 156, 160, 165, 173, 175, 179, 181, 190, 192, 197, 204, 206, 207, 208, 209, 212, 213, 218, 219, 220, 221, 224, 227, 229, 238, 239, 240, 241, 242, 249, 251, 252, 256, 258, 261, 265, 266, 267, 272, 273, 280, 283, 291, 293, 295, 300, 308, 312, 314, 317, 319, 321, 323, 324, 325, 326, 328, 332, 333, 334, 339, 342, 344, 346, 352, 354, 355, 356, 358, 360, 366, 368, 371, 373, 374, 378, 381, 387, 391, 394, 396, 397, 399, 401, 408, 412, 415, 416, 422, 424, 429, 430, 436, 437, 438, 441, 446, 447, 452, 453, 454, 456, 459, 460, 461, 463, 466, 470, 471, 476, 477, 479, 484, 485, 489, 490, 493, 495, 497, 498, 504, 508, 511, 512, 520, 522, 523, 527, 528, 531, 533, 534, 539, 546, 550, 551, 552, 554, 555, 558, 560, 562, 565, 568, 569, 570, 572, 574, 575, 577, 578, 583, 584, 586, 590, 591, 592, 593, 595, 599, 602, 604, 608, 611, 614, 617, 621, 622, 624, 628, 629, 630, 631, 632, 634, 636, 639, 648, 649, 654, 656, 659, 665, 667, 670, 672, 673, 674, 680, 688, 694, 700, 701, 703, 704, 705, 707, 708, 712, 713, 716, 718, 719, 722], '23426006': [2, 4, 7, 12, 14, 15, 17, 18, 22, 25, 26, 27, 32, 33, 34, 35, 37, 39, 42, 44, 46, 49, 51, 53, 54, 55, 56, 57, 61, 68, 69, 74, 75, 77, 83, 85, 90, 91, 92, 93, 96, 98, 99, 100, 106, 107, 108, 111, 112, 114, 115, 118, 120, 124, 126, 129, 132, 133, 134, 137, 139, 140, 142, 144, 149, 150, 151, 156, 158, 161, 164, 166, 167, 170, 172, 174, 175, 176, 177, 178, 179, 180, 183, 185, 188, 190, 192, 193, 196, 197, 198, 203, 204, 205, 207, 211, 216, 218, 219, 221, 222, 223, 229, 232, 234, 235, 237, 240, 241, 243, 245, 246, 252, 254, 255, 258, 259, 261, 266, 267, 268, 270, 273, 276, 277, 278, 279, 280, 282, 286, 287, 294, 296, 299, 302, 303, 304, 305, 306, 308, 309, 310, 315, 319, 320, 322, 323, 329, 330, 332, 333, 336, 338, 339, 343, 347, 352, 353, 354, 356, 357, 358, 360, 363, 365, 366, 369, 370, 375, 376, 380, 381, 383, 384, 385, 387, 388, 389, 390, 391, 392, 393, 396, 398, 400, 403, 405, 407, 408, 409, 411, 412, 414, 420, 421, 422, 424, 426, 427, 428, 429, 431, 432, 434, 435, 436, 440, 441, 445, 446, 447, 448, 450, 451, 452, 455, 456, 457, 458, 459, 461, 468, 469, 471, 473, 474, 475, 476, 478, 480, 482, 488, 489, 491, 494, 497, 499, 503, 508, 509, 512, 516, 517, 521, 523, 524, 526, 527, 529, 530, 531, 533, 534, 535, 536, 537, 539, 540, 543, 544, 545, 547, 548, 549, 551, 553, 559, 560, 563, 564, 569, 571, 572, 573, 574, 575, 577, 580, 581, 584, 585, 586, 587, 589, 590, 591, 592, 593, 594, 595, 596, 597, 598, 599, 601, 602, 603, 605, 607, 609, 610, 612, 615, 616, 617, 620, 621, 622, 623, 624, 625, 626, 628, 629, 630, 632, 634, 637, 638, 639, 645, 646, 647, 648, 650, 651, 652, 653, 655, 659, 660, 661, 662, 663, 669, 671, 674, 677, 678, 679, 683, 684, 685, 688, 690, 692, 695, 699, 700, 702, 710, 711, 713, 714, 715, 718, 720], '608680': [2, 4, 7, 12, 14, 15, 17, 18, 22, 25, 26, 27, 32, 33, 34, 35, 37, 39, 42, 44, 46, 49, 51, 53, 54, 55, 56, 61, 68, 69, 74, 75, 77, 83, 85, 90, 91, 92, 93, 96, 98, 99, 100, 105, 106, 107, 108, 111, 112, 114, 115, 118, 120, 124, 126, 129, 132, 133, 134, 137, 139, 140, 142, 144, 149, 150, 151, 156, 158, 161, 164, 166, 167, 170, 174, 175, 176, 177, 178, 179, 180, 183, 185, 188, 190, 192, 193, 196, 197, 198, 203, 204, 205, 207, 211, 216, 218, 219, 221, 222, 223, 229, 232, 235, 237, 240, 241, 242, 243, 245, 246, 249, 252, 254, 255, 258, 259, 261, 266, 267, 268, 270, 273, 276, 277, 278, 279, 280, 282, 286, 287, 294, 296, 299, 302, 303, 304, 305, 306, 308, 309, 310, 315, 319, 320, 322, 323, 329, 330, 332, 333, 336, 338, 339, 343, 347, 352, 353, 354, 356, 357, 358, 363, 365, 366, 369, 370, 375, 376, 380, 381, 383, 384, 385, 387, 388, 389, 390, 391, 392, 393, 396, 398, 400, 403, 405, 407, 408, 409, 411, 412, 414, 420, 421, 422, 424, 426, 427, 428, 429, 431, 432, 434, 435, 436, 440, 441, 445, 446, 447, 448, 450, 451, 452, 455, 456, 457, 458, 459, 461, 468, 469, 471, 473, 474, 475, 476, 478, 480, 482, 488, 489, 491, 494, 497, 499, 503, 508, 509, 512, 516, 517, 521, 523, 524, 526, 527, 529, 530, 531, 533, 534, 535, 536, 537, 539, 540, 543, 544, 545, 547, 548, 549, 551, 553, 559, 560, 563, 564, 569, 571, 572, 573, 574, 575, 577, 579, 580, 581, 584, 585, 586, 587, 589, 590, 591, 592, 593, 594, 595, 596, 597, 598, 599, 601, 602, 603, 605, 607, 609, 610, 612, 615, 616, 617, 620, 621, 622, 623, 624, 625, 626, 628, 629, 630, 632, 634, 637, 638, 639, 645, 646, 647, 648, 650, 651, 652, 653, 655, 659, 660, 661, 662, 663, 669, 671, 674, 677, 678, 679, 683, 684, 685, 688, 690, 692, 695, 699, 700, 702, 710, 711, 713, 714, 715, 718, 720], '824184': [6, 29, 30, 45, 52, 58, 70, 71, 72, 73, 82, 87, 101, 103, 104, 116, 119, 121, 141, 146, 147, 153, 154, 168, 169, 189, 195, 199, 200, 202, 208, 212, 226, 230, 257, 263, 264, 272, 284, 295, 300, 301, 317, 324, 328, 331, 335, 340, 342, 362, 372, 374, 379, 386, 397, 401, 430, 438, 442, 463, 464, 479, 484, 492, 496, 501, 502, 504, 519, 525, 532, 555, 556, 557, 562, 565, 567, 578, 583, 600, 608, 619, 641, 642, 654, 666, 672, 673, 675, 676, 681, 689, 696, 716, 723], '287664005': [8, 21, 28, 36, 62, 70, 72, 89, 134, 141, 146, 152, 169, 224, 227, 239, 260, 272, 307, 314, 378, 481, 493, 556, 565, 570, 682, 693, 709], '1049630': [8, 239, 449, 475, 565, 625], '46706006': [9, 31, 101, 122, 125, 165, 229, 256, 281, 290, 291, 314, 341, 346, 350, 359, 371, 397, 401, 417, 418, 430, 443, 449, 454, 466, 481, 492, 518, 522, 557, 578, 608, 631, 643, 649, 656, 658, 670, 676, 681, 682, 694, 703, 704, 714, 716, 719], '834101': [9, 12, 29, 33, 43, 60, 63, 76, 78, 80, 81, 90, 102, 117, 123, 131, 135, 138, 143, 157, 182, 201, 211, 213, 215, 220, 222, 230, 231, 233, 252, 265, 271, 274, 275, 287, 316, 324, 325, 335, 341, 346, 373, 376, 385, 390, 396, 400, 402, 406, 410, 454, 465, 470, 477, 483, 490, 498, 503, 524, 538, 550, 554, 558, 566, 587, 597, 599, 614, 621, 644, 660, 693, 712], '757594': [9, 40, 125, 340, 604, 643, 658, 715], '749762': [12, 689], '1367439': [12, 29, 30, 59, 104, 382], '1020137': [15, 57, 93, 98, 115, 140, 172, 176, 218, 234, 243, 273, 299, 302, 308, 319, 347, 360, 376, 480, 530, 533, 540, 549, 617, 624, 655], '309097': [20, 67, 79, 88, 113, 186, 194, 210, 247, 248, 262, 318, 337, 367, 487, 500, 506, 576, 582, 606, 668, 697, 717], '755621000000101': [21, 28, 59, 72, 103, 104, 110, 145, 157, 171, 190, 231, 283, 288, 307, 326, 327, 335, 340, 361, 368, 382, 404, 406, 415, 460, 484, 485, 570, 604, 639, 665, 689], '646250': [21, 103, 110, 145, 157, 301, 307, 327, 368, 404, 415, 460], '1366342': [28, 59, 72, 171, 288, 326, 335, 351, 359, 361, 382, 406, 442, 485, 570, 604, 608, 665, 689], '65200003': [30, 63, 128, 147, 281, 334, 346, 372, 485, 504, 640, 641, 665], '807283': [31, 63, 122, 125, 128, 165, 256, 281, 290, 291, 314, 346, 350, 371, 397, 417, 418, 443, 449, 466, 481, 485, 518, 557, 640, 658, 665, 682], '198405': [38, 47, 48, 65, 67, 79, 84, 88, 148, 155, 159, 162, 163, 184, 186, 187, 191, 194, 210, 214, 225, 236, 248, 250, 285, 289, 292, 311, 313, 337, 345, 348, 349, 377, 395, 423, 433, 472, 486, 487, 500, 505, 506, 510, 513, 541, 542, 582, 588, 606, 618, 633, 668, 686, 687, 691, 706, 721], '748856': [39, 120, 128, 147, 224, 260, 267, 363, 432], '76601001': [40, 301, 449], '831533': [62, 169, 406, 520, 543, 709], '751905': [70, 294, 299, 421, 565, 612], '106258': [81, 570], '389128': [81], '749785': [89, 378, 438, 484, 493, 564, 625, 719], '22523008': [105, 206, 230, 242, 249, 287, 579], '1359133': [141], '1605257': [147], '68254000': [156, 256, 359, 608], '395142003': [186, 194, 248, 506, 664, 721], '727316': [186, 194, 248, 506, 570, 664, 721], '665078': [186, 721], '1014676': [194, 248, 506], '749882': [227, 281, 598], '239981': [257, 430, 667], '301807007': [288, 351, 442], '748962': [326, 334, 459, 653, 660], '1856546': [346, 504], '197378': [346, 534], '748879': [366, 607], '1536586': [383, 535, 564], '1000158': [449], '169553002': [484], '1111011': [484], '997501': [570], '399208008': [577], '269911007': [579], '997488': [664]})\n"
          ]
        }
      ],
      "source": [
        "# each word in what doc\n",
        "word_doc_list = defaultdict(lambda : [])\n",
        "for index, doc in enumerate(shuffled_document):\n",
        "    appeared = set()\n",
        "    doc_words = doc.split()\n",
        "    for word in doc_words:\n",
        "        if word in appeared:\n",
        "            continue\n",
        "        word_doc_list[word].append(index)\n",
        "        appeared.add(word)\n",
        "print(word_doc_list)       "
      ],
      "id": "735cd224"
    },
    {
      "cell_type": "code",
      "execution_count": 15,
      "metadata": {
        "colab": {
          "base_uri": "https://localhost:8080/"
        },
        "id": "vbD8ncrKFGL9",
        "outputId": "5f30713f-1f5d-4ae1-c1c8-b1dde9bc8358"
      },
      "outputs": [
        {
          "output_type": "stream",
          "name": "stdout",
          "text": [
            "{'311791003': 122, '282464': 56, '392151': 77, '73761001': 175, '834060': 252, '23426006': 357, '608680': 357, '824184': 95, '287664005': 29, '1049630': 6, '46706006': 48, '834101': 74, '757594': 8, '749762': 2, '1367439': 6, '1020137': 27, '309097': 23, '755621000000101': 33, '646250': 12, '1366342': 19, '65200003': 13, '807283': 28, '198405': 58, '748856': 9, '76601001': 3, '831533': 6, '751905': 6, '106258': 2, '389128': 1, '749785': 8, '22523008': 7, '1359133': 1, '1605257': 1, '68254000': 4, '395142003': 6, '727316': 7, '665078': 2, '1014676': 3, '749882': 3, '239981': 3, '301807007': 3, '748962': 5, '1856546': 2, '197378': 2, '748879': 2, '1536586': 3, '1000158': 1, '169553002': 1, '1111011': 1, '997501': 1, '399208008': 1, '269911007': 1, '997488': 1}\n"
          ]
        }
      ],
      "source": [
        "# each word in how many docs\n",
        "word_doc_freq = {}\n",
        "for word, doc_list in word_doc_list.items():\n",
        "    word_doc_freq[word] = len(doc_list)\n",
        "    \n",
        "print(word_doc_freq)"
      ],
      "id": "vbD8ncrKFGL9"
    },
    {
      "cell_type": "code",
      "execution_count": 16,
      "metadata": {
        "id": "YJbfNCQKMJTu"
      },
      "outputs": [],
      "source": [
        "# map each word to an index\n",
        "word_id_map = {}\n",
        "for index, word in enumerate(vocab):\n",
        "    word_id_map[word] = index"
      ],
      "id": "YJbfNCQKMJTu"
    },
    {
      "cell_type": "code",
      "execution_count": 17,
      "metadata": {
        "id": "5fad9ca6"
      },
      "outputs": [],
      "source": [
        "#ecoding using tfidf\n",
        "tfidf_vec = TfidfVectorizer(max_features=1000)\n",
        "tfidf_matrix = tfidf_vec.fit_transform(vocab)\n",
        "tfidf_matrix_array = tfidf_matrix.toarray()"
      ],
      "id": "5fad9ca6"
    },
    {
      "cell_type": "code",
      "execution_count": 18,
      "metadata": {
        "colab": {
          "base_uri": "https://localhost:8080/"
        },
        "id": "bzi2zJIII7Kl",
        "outputId": "0ba028b8-82e1-4452-8698-31f72bcb0e27"
      },
      "outputs": [
        {
          "output_type": "execute_result",
          "data": {
            "text/plain": [
              "array([[0., 0., 0., ..., 0., 0., 0.],\n",
              "       [0., 0., 0., ..., 0., 1., 0.],\n",
              "       [0., 0., 0., ..., 0., 0., 0.],\n",
              "       ...,\n",
              "       [0., 0., 0., ..., 0., 0., 0.],\n",
              "       [0., 0., 0., ..., 0., 0., 0.],\n",
              "       [0., 0., 0., ..., 0., 0., 0.]])"
            ]
          },
          "metadata": {},
          "execution_count": 18
        }
      ],
      "source": [
        "tfidf_matrix_array"
      ],
      "id": "bzi2zJIII7Kl"
    },
    {
      "cell_type": "code",
      "execution_count": 19,
      "metadata": {
        "colab": {
          "base_uri": "https://localhost:8080/"
        },
        "id": "hcJsNgFZJyLj",
        "outputId": "39864ed4-56d7-466b-f304-42828537de3d"
      },
      "outputs": [
        {
          "output_type": "execute_result",
          "data": {
            "text/plain": [
              "dict_items([('46706006', 0), ('997488', 1), ('755621000000101', 2), ('834101', 3), ('757594', 4), ('1856546', 5), ('831533', 6), ('997501', 7), ('22523008', 8), ('301807007', 9), ('834060', 10), ('748962', 11), ('65200003', 12), ('76601001', 13), ('824184', 14), ('749762', 15), ('807283', 16), ('198405', 17), ('727316', 18), ('311791003', 19), ('197378', 20), ('1014676', 21), ('1111011', 22), ('1536586', 23), ('1359133', 24), ('646250', 25), ('309097', 26), ('282464', 27), ('608680', 28), ('748879', 29), ('1020137', 30), ('665078', 31), ('749882', 32), ('1049630', 33), ('239981', 34), ('399208008', 35), ('392151', 36), ('748856', 37), ('1367439', 38), ('287664005', 39), ('68254000', 40), ('73761001', 41), ('751905', 42), ('106258', 43), ('1605257', 44), ('395142003', 45), ('269911007', 46), ('1366342', 47), ('1000158', 48), ('23426006', 49), ('749785', 50), ('169553002', 51), ('389128', 52)])"
            ]
          },
          "metadata": {},
          "execution_count": 19
        }
      ],
      "source": [
        "word_id_map.items()"
      ],
      "id": "hcJsNgFZJyLj"
    },
    {
      "cell_type": "code",
      "execution_count": 20,
      "metadata": {
        "id": "1f0080e0"
      },
      "outputs": [],
      "source": [
        "word_vector_map = {}\n",
        "for word, idd in word_id_map.items():\n",
        "    word_vector_map[word] = tfidf_matrix_array[idd]"
      ],
      "id": "1f0080e0"
    },
    {
      "cell_type": "code",
      "execution_count": 21,
      "metadata": {
        "colab": {
          "base_uri": "https://localhost:8080/"
        },
        "id": "cjlngcd4KCae",
        "outputId": "6cf977fc-b897-45f8-81be-7dd3d28f1113"
      },
      "outputs": [
        {
          "output_type": "execute_result",
          "data": {
            "text/plain": [
              "array([0., 0., 0., 0., 0., 0., 0., 0., 0., 0., 0., 0., 0., 0., 0., 0., 0.,\n",
              "       1., 0., 0., 0., 0., 0., 0., 0., 0., 0., 0., 0., 0., 0., 0., 0., 0.,\n",
              "       0., 0., 0., 0., 0., 0., 0., 0., 0., 0., 0., 0., 0., 0., 0., 0., 0.,\n",
              "       0., 0.])"
            ]
          },
          "metadata": {},
          "execution_count": 21
        }
      ],
      "source": [
        "word_vector_map['239981']"
      ],
      "id": "cjlngcd4KCae"
    },
    {
      "cell_type": "code",
      "execution_count": 22,
      "metadata": {
        "colab": {
          "base_uri": "https://localhost:8080/"
        },
        "id": "87a0ceec",
        "outputId": "082b366e-94ab-4081-d1f0-d4bf9426b5fc"
      },
      "outputs": [
        {
          "output_type": "stream",
          "name": "stdout",
          "text": [
            "(53, 53)\n",
            "46706006\n",
            "[0. 0. 0. 0. 0. 0. 0. 0. 0. 0. 0. 0. 0. 0. 0. 0. 0. 0. 0. 0. 0. 0. 0. 0.\n",
            " 0. 0. 1. 0. 0. 0. 0. 0. 0. 0. 0. 0. 0. 0. 0. 0. 0. 0. 0. 0. 0. 0. 0. 0.\n",
            " 0. 0. 0. 0. 0.]\n",
            "[0. 0. 0. 0. 0. 0. 0. 0. 0. 0. 0. 0. 0. 0. 0. 0. 0. 0. 0. 0. 0. 0. 0. 0.\n",
            " 0. 0. 0. 0. 1. 0. 0. 0. 0. 0. 0. 0. 0. 0. 0. 0. 0. 0. 0. 0. 0. 0. 0. 0.\n",
            " 0. 0. 0. 0. 0.]\n"
          ]
        }
      ],
      "source": [
        "word_vectors = np.random.uniform(-0.01, 0.01,(vocab_size, word_embeddings_dim))\n",
        "print(word_vectors.shape)\n",
        "for i in range(len(vocab)):\n",
        "    word = vocab[i]\n",
        "    if word in word_vector_map:\n",
        "        vector = word_vector_map[word]\n",
        "        word_vectors[i] = vector\n",
        "print(vocab[0])\n",
        "print(word_vector_map['395142003'])\n",
        "print(word_vectors[0])"
      ],
      "id": "87a0ceec"
    },
    {
      "cell_type": "code",
      "execution_count": 23,
      "metadata": {
        "colab": {
          "base_uri": "https://localhost:8080/"
        },
        "id": "c512797a",
        "outputId": "fcace8e7-bd6c-424c-c488-9f6c9ac28dc2"
      },
      "outputs": [
        {
          "output_type": "stream",
          "name": "stdout",
          "text": [
            "615\n",
            "668\n",
            "[0.         0.         0.         0.         0.         0.\n",
            " 0.         0.         0.         0.         0.         0.\n",
            " 0.         0.         0.         0.         0.         0.\n",
            " 0.         0.33333333 0.         0.         0.         0.33333333\n",
            " 0.         0.33333333 0.         0.         0.         0.\n",
            " 0.         0.         0.         0.         0.         0.\n",
            " 0.         0.         0.         0.         0.         0.\n",
            " 0.         0.         0.         0.         0.         0.\n",
            " 0.         0.         0.         0.         0.        ]\n"
          ]
        }
      ],
      "source": [
        "#train data feature\n",
        "# create document vector by summing word_vector of all words in a document\n",
        "# normalize it\n",
        "data_x = []\n",
        "\n",
        "for i, doc in enumerate(shuffled_document[:train_size+val_size]):\n",
        "    doc_vec = np.array([0.0 for k in range(word_embeddings_dim)])\n",
        "    doc_words = doc.split()\n",
        "    doc_len = len(doc_words)\n",
        "    for word in doc_words:\n",
        "        if word in word_vector_map:\n",
        "            word_vector = word_vector_map[word]\n",
        "            doc_vec = doc_vec + np.array(word_vector)          \n",
        "    data_x.append(doc_vec)\n",
        "print(len(data_x))\n",
        "X = np.vstack([np.array(data_x)/doc_len, np.array(word_vectors)])  \n",
        "print(len(X))        \n",
        "print(X[0])"
      ],
      "id": "c512797a"
    },
    {
      "cell_type": "code",
      "execution_count": 24,
      "metadata": {
        "colab": {
          "base_uri": "https://localhost:8080/"
        },
        "id": "cc185807",
        "outputId": "1485b5ba-c30e-4fb8-b474-bb851b0cd5d4"
      },
      "outputs": [
        {
          "output_type": "stream",
          "name": "stdout",
          "text": [
            "3\n"
          ]
        }
      ],
      "source": [
        "# train data labels\n",
        "y = []\n",
        "for label in shuffled_labels[:train_size+val_size]:\n",
        "    y.append(labels_list.index(label))\n",
        "y.extend([-1 for _ in range(vocab_size)])\n",
        "print(y[0])"
      ],
      "id": "cc185807"
    },
    {
      "cell_type": "code",
      "execution_count": 25,
      "metadata": {
        "id": "4914e77b"
      },
      "outputs": [],
      "source": [
        "# test data feature\n",
        "data_tx = []\n",
        "for i, doc in enumerate(shuffled_document[-test_size:]):\n",
        "    doc_vec = np.array([0.0 for k in range(word_embeddings_dim)])\n",
        "    doc_words = doc.split()\n",
        "    doc_len = len(doc_words)\n",
        "    for word in doc_words:\n",
        "        if word in word_vector_map:\n",
        "            word_vector = word_vector_map[word]\n",
        "            doc_vec = doc_vec + np.array(word_vector)\n",
        "    data_tx.append(doc_vec)\n",
        "tx = np.array(data_tx)/doc_len"
      ],
      "id": "4914e77b"
    },
    {
      "cell_type": "code",
      "execution_count": 26,
      "metadata": {
        "colab": {
          "base_uri": "https://localhost:8080/"
        },
        "id": "fcc58661",
        "outputId": "7f585c68-6d9e-43d2-8d39-5bb19139b5ce"
      },
      "outputs": [
        {
          "output_type": "execute_result",
          "data": {
            "text/plain": [
              "724"
            ]
          },
          "metadata": {},
          "execution_count": 26
        }
      ],
      "source": [
        "len(shuffled_labels)"
      ],
      "id": "fcc58661"
    },
    {
      "cell_type": "code",
      "execution_count": 27,
      "metadata": {
        "colab": {
          "base_uri": "https://localhost:8080/"
        },
        "id": "9ry4fpdrNFCC",
        "outputId": "5a938569-8ff1-46b1-82bf-9038ebe16de6"
      },
      "outputs": [
        {
          "output_type": "stream",
          "name": "stdout",
          "text": [
            "(109, 53) 109\n"
          ]
        }
      ],
      "source": [
        "#test data label\n",
        "ty = []\n",
        "ty = [labels_list.index(label) for label in shuffled_labels[-test_size:]]\n",
        "print(tx.shape, len(ty))"
      ],
      "id": "9ry4fpdrNFCC"
    },
    {
      "cell_type": "code",
      "execution_count": 28,
      "metadata": {
        "id": "027e451b",
        "colab": {
          "base_uri": "https://localhost:8080/"
        },
        "outputId": "232bec8a-da6d-495a-a394-97d4016f2ebf"
      },
      "outputs": [
        {
          "output_type": "stream",
          "name": "stdout",
          "text": [
            "109\n",
            "(109, 53) 109\n",
            "------\n",
            "668\n",
            "(668, 53) 668\n"
          ]
        }
      ],
      "source": [
        "print(test_size)\n",
        "print(tx.shape, len(ty))\n",
        "print('------')\n",
        "print(train_size + val_size+ vocab_size)\n",
        "print(X.shape, len(y))"
      ],
      "id": "027e451b"
    },
    {
      "cell_type": "code",
      "execution_count": 29,
      "metadata": {
        "id": "kWxkSkk0c9ps"
      },
      "outputs": [],
      "source": [
        "# word co-occurence with context windows\n",
        "window_size = 3\n",
        "windows = []"
      ],
      "id": "kWxkSkk0c9ps"
    },
    {
      "cell_type": "code",
      "execution_count": 30,
      "metadata": {
        "id": "iaulBx5segoV"
      },
      "outputs": [],
      "source": [
        "for doc_words in shuffled_document:\n",
        "    words = doc_words.split()\n",
        "    length = len(words)\n",
        "    if length <= window_size:\n",
        "        windows.append(words)\n",
        "    else:\n",
        "        for j in range(length - window_size + 1):\n",
        "            window = words[j: j + window_size]\n",
        "            windows.append(window)"
      ],
      "id": "iaulBx5segoV"
    },
    {
      "cell_type": "code",
      "execution_count": 31,
      "metadata": {
        "colab": {
          "base_uri": "https://localhost:8080/"
        },
        "id": "MrZfzLllejA5",
        "outputId": "98b910b6-d5c6-4d60-d2f2-89de4566f431"
      },
      "outputs": [
        {
          "output_type": "stream",
          "name": "stdout",
          "text": [
            "[['311791003', '282464', '392151'], ['73761001', '834060'], ['23426006', '608680'], ['73761001', '834060'], ['23426006', '73761001', '834060'], ['73761001', '834060', '608680'], ['311791003', '282464', '392151'], ['73761001', '824184'], ['23426006', '834060', '608680'], ['287664005', '1049630'], ['46706006', '834101', '757594'], ['73761001', '834060'], ['73761001', '834060'], ['23426006', '834101', '749762'], ['834101', '749762', '608680'], ['749762', '608680', '1367439'], ['73761001', '834060'], ['23426006', '608680'], ['23426006', '1020137', '608680'], ['73761001', '834060'], ['23426006', '608680'], ['23426006', '608680'], ['311791003', '282464', '392151'], ['311791003', '282464', '309097'], ['282464', '309097', '392151'], ['287664005', '755621000000101', '646250'], ['23426006', '608680'], ['73761001', '834060'], ['311791003', '282464'], ['23426006', '834060', '608680'], ['23426006', '608680'], ['23426006', '608680'], ['287664005', '755621000000101', '1366342'], ['311791003', '834101', '1367439'], ['834101', '1367439', '824184'], ['65200003', '1367439', '824184'], ['46706006', '807283'], ['23426006', '608680'], ['23426006', '834101', '834060'], ['834101', '834060', '608680'], ['23426006', '608680'], ['23426006', '608680'], ['287664005', '834060'], ['23426006', '608680'], ['311791003', '392151', '198405'], ['23426006', '748856', '608680'], ['76601001', '757594'], ['73761001', '834060'], ['23426006', '608680'], ['73761001', '834101'], ['23426006', '608680'], ['73761001', '824184'], ['23426006', '608680'], ['311791003', '392151', '198405'], ['311791003', '282464', '392151'], ['282464', '392151', '198405'], ['23426006', '834060', '608680'], ['311791003', '282464', '392151'], ['23426006', '608680'], ['73761001', '824184'], ['23426006', '834060', '608680'], ['23426006', '834060', '608680'], ['23426006', '608680'], ['23426006', '608680'], ['23426006', '1020137'], ['73761001', '834060', '824184'], ['755621000000101', '1366342', '1367439'], ['73761001', '834101'], ['23426006', '608680'], ['287664005', '831533'], ['65200003', '834101', '834060'], ['834101', '834060', '807283'], ['73761001', '834060'], ['311791003', '392151', '198405'], ['73761001', '834060'], ['311791003', '309097', '392151'], ['309097', '392151', '198405'], ['23426006', '608680'], ['23426006', '608680'], ['287664005', '751905', '824184'], ['73761001', '834060', '824184'], ['287664005', '755621000000101', '1366342'], ['755621000000101', '1366342', '824184'], ['311791003', '824184'], ['23426006', '608680'], ['23426006', '73761001', '608680'], ['73761001', '834101'], ['23426006', '311791003', '608680'], ['73761001', '834101'], ['311791003', '309097', '198405'], ['73761001', '834101', '834060'], ['73761001', '834101', '834060'], ['834101', '834060', '106258'], ['834060', '106258', '389128'], ['73761001', '834060', '824184'], ['23426006', '608680'], ['311791003', '198405'], ['23426006', '608680'], ['73761001', '834060'], ['73761001', '824184'], ['311791003', '309097', '392151'], ['309097', '392151', '198405'], ['287664005', '749785'], ['23426006', '834101', '608680'], ['23426006', '608680'], ['23426006', '608680'], ['23426006', '1020137', '608680'], ['73761001', '834060'], ['73761001', '834060'], ['23426006', '608680'], ['311791003', '282464'], ['23426006', '1020137', '608680'], ['23426006', '834060', '608680'], ['23426006', '834060', '608680'], ['46706006', '824184'], ['73761001', '834101'], ['755621000000101', '646250', '824184'], ['755621000000101', '834060', '1367439'], ['834060', '1367439', '824184'], ['22523008', '608680'], ['23426006', '608680'], ['23426006', '608680'], ['23426006', '73761001', '834060'], ['73761001', '834060', '608680'], ['311791003', '282464', '392151'], ['755621000000101', '646250'], ['23426006', '608680'], ['23426006', '608680'], ['311791003', '282464', '309097'], ['23426006', '834060', '608680'], ['23426006', '73761001', '1020137'], ['73761001', '1020137', '608680'], ['73761001', '834060', '824184'], ['73761001', '834101'], ['23426006', '73761001', '834060'], ['73761001', '834060', '608680'], ['73761001', '834060', '824184'], ['23426006', '311791003', '834060'], ['311791003', '834060', '748856'], ['834060', '748856', '608680'], ['311791003', '824184'], ['46706006', '807283'], ['73761001', '834101'], ['23426006', '608680'], ['46706006', '757594', '807283'], ['23426006', '608680'], ['73761001', '834060'], ['65200003', '748856', '807283'], ['23426006', '834060', '608680'], ['73761001', '834060'], ['73761001', '834101'], ['23426006', '608680'], ['23426006', '608680'], ['23426006', '287664005', '834060'], ['287664005', '834060', '608680'], ['73761001', '834101', '834060'], ['73761001', '834060'], ['23426006', '608680'], ['73761001', '834101', '834060'], ['23426006', '608680'], ['23426006', '73761001', '834060'], ['73761001', '834060', '1020137'], ['834060', '1020137', '608680'], ['287664005', '1359133', '824184'], ['23426006', '834060', '608680'], ['73761001', '834101'], ['23426006', '608680'], ['755621000000101', '834060', '646250'], ['287664005', '824184'], ['65200003', '1605257', '748856'], ['1605257', '748856', '824184'], ['311791003', '392151', '198405'], ['23426006', '834060', '608680'], ['23426006', '608680'], ['23426006', '608680'], ['287664005', '834060'], ['311791003', '824184'], ['311791003', '824184'], ['311791003', '282464', '392151'], ['282464', '392151', '198405'], ['68254000', '23426006', '73761001'], ['23426006', '73761001', '834060'], ['73761001', '834060', '608680'], ['755621000000101', '834101', '646250'], ['23426006', '608680'], ['311791003', '392151', '198405'], ['73761001', '834060'], ['23426006', '608680'], ['311791003', '392151', '198405'], ['311791003', '392151', '198405'], ['23426006', '608680'], ['46706006', '834060', '807283'], ['23426006', '608680'], ['23426006', '73761001', '608680'], ['73761001', '824184'], ['287664005', '831533', '824184'], ['23426006', '608680'], ['755621000000101', '1366342'], ['23426006', '1020137'], ['73761001', '834060'], ['23426006', '608680'], ['23426006', '834060', '608680'], ['23426006', '1020137', '608680'], ['23426006', '608680'], ['23426006', '608680'], ['23426006', '834060', '608680'], ['23426006', '608680'], ['73761001', '834060'], ['73761001', '834101'], ['23426006', '608680'], ['311791003', '392151', '198405'], ['23426006', '608680'], ['395142003', '392151', '282464'], ['392151', '282464', '309097'], ['282464', '309097', '727316'], ['309097', '727316', '665078'], ['727316', '665078', '198405'], ['311791003', '198405'], ['23426006', '608680'], ['73761001', '824184'], ['23426006', '755621000000101', '834060'], ['755621000000101', '834060', '608680'], ['311791003', '282464', '392151'], ['282464', '392151', '198405'], ['23426006', '73761001', '834060'], ['73761001', '834060', '608680'], ['23426006', '608680'], ['395142003', '1014676', '392151'], ['1014676', '392151', '282464'], ['392151', '282464', '309097'], ['282464', '309097', '727316'], ['309097', '727316', '198405'], ['73761001', '824184'], ['23426006', '608680'], ['23426006', '834060', '608680'], ['23426006', '608680'], ['311791003', '824184'], ['311791003', '824184'], ['73761001', '834101'], ['73761001', '824184'], ['23426006', '608680'], ['23426006', '834060', '608680'], ['23426006', '608680'], ['73761001', '22523008', '834060'], ['23426006', '834060', '608680'], ['73761001', '834060', '824184'], ['73761001', '834060'], ['311791003', '282464', '309097'], ['282464', '309097', '198405'], ['23426006', '834101', '608680'], ['73761001', '834060', '824184'], ['73761001', '834101', '834060'], ['311791003', '392151', '198405'], ['73761001', '834101'], ['23426006', '608680'], ['311791003', '282464', '392151'], ['23426006', '834060', '608680'], ['834060', '608680', '1020137'], ['23426006', '834060', '608680'], ['73761001', '834101', '834060'], ['23426006', '834060', '608680'], ['23426006', '834101', '608680'], ['23426006', '608680'], ['287664005', '834060', '748856'], ['311791003', '282464', '392151'], ['282464', '392151', '198405'], ['311791003', '824184'], ['287664005', '834060', '749882'], ['311791003', '282464'], ['23426006', '46706006', '834060'], ['46706006', '834060', '608680'], ['22523008', '834101', '824184'], ['755621000000101', '834101'], ['23426006', '608680'], ['73761001', '834101'], ['23426006', '1020137'], ['23426006', '73761001', '608680'], ['311791003', '282464', '392151'], ['282464', '392151', '198405'], ['23426006', '608680'], ['73761001', '834060'], ['287664005', '834060', '1049630'], ['23426006', '834060', '608680'], ['23426006', '834060', '608680'], ['22523008', '834060', '608680'], ['23426006', '1020137', '608680'], ['311791003', '282464', '392151'], ['23426006', '311791003', '608680'], ['23426006', '608680'], ['311791003', '282464', '309097'], ['395142003', '1014676', '392151'], ['1014676', '392151', '282464'], ['392151', '282464', '309097'], ['282464', '309097', '727316'], ['309097', '727316', '198405'], ['22523008', '834060', '608680'], ['311791003', '392151', '198405'], ['73761001', '834060'], ['23426006', '834101', '834060'], ['834101', '834060', '608680'], ['311791003', '282464', '392151'], ['23426006', '608680'], ['23426006', '608680'], ['68254000', '73761001', '46706006'], ['73761001', '46706006', '834060'], ['46706006', '834060', '807283'], ['73761001', '239981', '824184'], ['23426006', '834060', '608680'], ['23426006', '608680'], ['287664005', '748856'], ['23426006', '834060', '608680'], ['311791003', '282464', '309097'], ['73761001', '824184'], ['73761001', '824184'], ['73761001', '834101', '834060'], ['23426006', '834060', '608680'], ['23426006', '834060', '748856'], ['834060', '748856', '608680'], ['23426006', '73761001', '608680'], ['311791003', '282464', '392151'], ['23426006', '608680'], ['73761001', '834101'], ['287664005', '834060', '824184'], ['23426006', '834060', '608680'], ['834060', '608680', '1020137'], ['73761001', '834101'], ['73761001', '834101'], ['311791003', '23426006', '608680'], ['23426006', '608680'], ['23426006', '608680'], ['23426006', '608680'], ['23426006', '834060', '608680'], ['65200003', '46706006', '807283'], ['46706006', '807283', '749882'], ['23426006', '73761001', '608680'], ['755621000000101', '834060'], ['73761001', '824184'], ['311791003', '392151', '198405'], ['23426006', '608680'], ['23426006', '73761001', '22523008'], ['73761001', '22523008', '834101'], ['22523008', '834101', '608680'], ['73761001', '755621000000101', '301807007'], ['755621000000101', '301807007', '1366342'], ['311791003', '282464', '392151'], ['282464', '392151', '198405'], ['46706006', '807283'], ['46706006', '834060', '807283'], ['311791003', '392151', '198405'], ['73761001', '834060'], ['23426006', '751905', '608680'], ['73761001', '834060', '824184'], ['23426006', '608680'], ['311791003', '282464', '392151'], ['311791003', '282464', '392151'], ['23426006', '1020137', '751905'], ['1020137', '751905', '608680'], ['73761001', '834060', '824184'], ['76601001', '646250', '824184'], ['23426006', '1020137', '608680'], ['23426006', '608680'], ['23426006', '608680'], ['23426006', '608680'], ['23426006', '608680'], ['287664005', '755621000000101', '646250'], ['23426006', '834060', '608680'], ['834060', '608680', '1020137'], ['23426006', '608680'], ['23426006', '608680'], ['311791003', '392151', '198405'], ['73761001', '834060'], ['311791003', '282464', '392151'], ['282464', '392151', '198405'], ['287664005', '46706006', '834060'], ['46706006', '834060', '807283'], ['23426006', '608680'], ['73761001', '834101'], ['73761001', '834060', '824184'], ['311791003', '282464', '309097'], ['282464', '309097', '392151'], ['23426006', '834060', '608680'], ['834060', '608680', '1020137'], ['23426006', '608680'], ['73761001', '834060'], ['23426006', '608680'], ['23426006', '73761001', '834060'], ['73761001', '834060', '608680'], ['73761001', '834101', '834060'], ['834101', '834060', '824184'], ['73761001', '834101', '834060'], ['755621000000101', '748962', '834060'], ['748962', '834060', '1366342'], ['755621000000101', '646250'], ['73761001', '834060', '824184'], ['23426006', '311791003', '608680'], ['23426006', '608680'], ['311791003', '824184'], ['23426006', '834060', '608680'], ['23426006', '834060', '608680'], ['65200003', '748962', '834060'], ['755621000000101', '834101', '1366342'], ['834101', '1366342', '824184'], ['23426006', '608680'], ['311791003', '309097', '198405'], ['23426006', '608680'], ['23426006', '834060', '608680'], ['755621000000101', '757594', '824184'], ['46706006', '834101'], ['311791003', '834060', '824184'], ['23426006', '608680'], ['73761001', '834060'], ['311791003', '392151', '198405'], ['65200003', '46706006', '834101'], ['46706006', '834101', '834060'], ['834101', '834060', '807283'], ['834060', '807283', '1856546'], ['807283', '1856546', '197378'], ['23426006', '1020137', '608680'], ['311791003', '392151', '198405'], ['311791003', '198405'], ['46706006', '807283'], ['301807007', '1366342'], ['23426006', '834060', '608680'], ['23426006', '608680'], ['23426006', '834060', '608680'], ['73761001', '834060'], ['23426006', '834060', '608680'], ['23426006', '608680'], ['23426006', '834060', '608680'], ['68254000', '73761001', '46706006'], ['73761001', '46706006', '1366342'], ['23426006', '834060', '1020137'], ['755621000000101', '1366342'], ['73761001', '824184'], ['23426006', '748856', '608680'], ['311791003', '282464', '392151'], ['23426006', '608680'], ['23426006', '834060', '608680'], ['834060', '608680', '748879'], ['311791003', '282464', '309097'], ['755621000000101', '834060', '646250'], ['23426006', '608680'], ['23426006', '608680'], ['46706006', '834060', '807283'], ['65200003', '824184'], ['73761001', '834101', '834060'], ['73761001', '834060', '824184'], ['23426006', '608680'], ['23426006', '73761001', '834101'], ['73761001', '834101', '1020137'], ['834101', '1020137', '608680'], ['311791003', '392151', '198405'], ['287664005', '834060', '749785'], ['73761001', '824184'], ['23426006', '608680'], ['23426006', '834060', '608680'], ['755621000000101', '1366342', '1367439'], ['23426006', '1536586', '608680'], ['23426006', '73761001', '608680'], ['23426006', '834101', '608680'], ['73761001', '824184'], ['23426006', '834060', '608680'], ['23426006', '608680'], ['23426006', '608680'], ['23426006', '834101', '608680'], ['23426006', '834060', '608680'], ['23426006', '73761001', '608680'], ['23426006', '608680'], ['73761001', '834060'], ['311791003', '392151', '198405'], ['23426006', '834101', '834060'], ['834101', '834060', '608680'], ['46706006', '834060', '807283'], ['834060', '807283', '824184'], ['23426006', '608680'], ['73761001', '834060'], ['23426006', '73761001', '834101'], ['73761001', '834101', '608680'], ['46706006', '834060', '824184'], ['73761001', '834101'], ['23426006', '608680'], ['755621000000101', '646250'], ['23426006', '608680'], ['755621000000101', '834101', '1366342'], ['834101', '1366342', '831533'], ['23426006', '608680'], ['23426006', '834060', '608680'], ['23426006', '608680'], ['73761001', '834101'], ['23426006', '608680'], ['23426006', '834060', '608680'], ['311791003', '282464', '392151'], ['23426006', '73761001', '608680'], ['755621000000101', '834060', '646250'], ['73761001', '834060'], ['46706006', '807283'], ['46706006', '807283'], ['311791003', '282464', '392151'], ['23426006', '608680'], ['23426006', '608680', '751905'], ['23426006', '834060', '608680'], ['311791003', '392151', '198405'], ['23426006', '834060', '608680'], ['311791003', '282464', '392151'], ['23426006', '311791003', '608680'], ['23426006', '608680'], ['23426006', '608680'], ['23426006', '834060', '608680'], ['46706006', '239981', '834060'], ['239981', '834060', '824184'], ['23426006', '608680'], ['23426006', '748856', '608680'], ['311791003', '392151', '198405'], ['23426006', '608680'], ['23426006', '608680'], ['23426006', '834060', '608680'], ['73761001', '834060'], ['73761001', '834060', '749785'], ['834060', '749785', '824184'], ['311791003', '282464', '392151'], ['23426006', '73761001', '608680'], ['23426006', '834060', '608680'], ['301807007', '1366342', '824184'], ['46706006', '807283'], ['311791003', '282464', '392151'], ['23426006', '608680'], ['23426006', '834060', '608680'], ['23426006', '834060', '608680'], ['23426006', '608680'], ['46706006', '76601001', '1000158'], ['76601001', '1000158', '807283'], ['1000158', '807283', '1049630'], ['23426006', '608680'], ['23426006', '608680'], ['23426006', '73761001', '834060'], ['73761001', '834060', '608680'], ['73761001', '834060'], ['73761001', '46706006', '834101'], ['46706006', '834101', '834060'], ['23426006', '608680'], ['23426006', '834060', '608680'], ['23426006', '608680'], ['23426006', '608680'], ['23426006', '748962', '834060'], ['748962', '834060', '608680'], ['755621000000101', '834060', '646250'], ['23426006', '834060', '608680'], ['311791003', '282464', '392151'], ['311791003', '834060', '824184'], ['311791003', '73761001', '824184'], ['73761001', '834101'], ['46706006', '834060', '807283'], ['311791003', '282464'], ['23426006', '608680'], ['23426006', '608680'], ['73761001', '834101', '834060'], ['23426006', '834060', '608680'], ['311791003', '392151', '198405'], ['23426006', '608680'], ['23426006', '608680'], ['23426006', '608680', '1049630'], ['23426006', '834060', '608680'], ['73761001', '834101', '834060'], ['23426006', '608680'], ['73761001', '834060', '824184'], ['23426006', '1020137', '608680'], ['287664005', '46706006', '807283'], ['23426006', '73761001', '608680'], ['73761001', '834101'], ['169553002', '755621000000101', '1111011'], ['755621000000101', '1111011', '834060'], ['1111011', '834060', '749785'], ['834060', '749785', '824184'], ['65200003', '755621000000101', '834060'], ['755621000000101', '834060', '1366342'], ['834060', '1366342', '807283'], ['311791003', '392151', '198405'], ['311791003', '282464', '309097'], ['282464', '309097', '392151'], ['309097', '392151', '198405'], ['23426006', '608680'], ['23426006', '73761001', '834060'], ['73761001', '834060', '608680'], ['73761001', '834101', '834060'], ['23426006', '608680'], ['46706006', '824184'], ['287664005', '834060', '749785'], ['23426006', '73761001', '608680'], ['73761001', '834060'], ['311791003', '824184'], ['23426006', '834060', '608680'], ['73761001', '834101', '834060'], ['23426006', '608680'], ['311791003', '309097', '198405'], ['73761001', '824184'], ['73761001', '824184'], ['23426006', '73761001', '834101'], ['73761001', '834101', '608680'], ['65200003', '834060', '1856546'], ['834060', '1856546', '824184'], ['311791003', '392151', '198405'], ['311791003', '395142003', '1014676'], ['395142003', '1014676', '392151'], ['1014676', '392151', '309097'], ['392151', '309097', '727316'], ['309097', '727316', '198405'], ['311791003', '282464', '392151'], ['23426006', '834060', '608680'], ['23426006', '608680'], ['311791003', '198405'], ['73761001', '834060'], ['23426006', '834060', '608680'], ['311791003', '282464', '392151'], ['282464', '392151', '198405'], ['311791003', '282464'], ['311791003', '282464', '392151'], ['23426006', '608680'], ['23426006', '608680'], ['46706006', '807283'], ['73761001', '824184'], ['73761001', '834060', '831533'], ['23426006', '608680'], ['46706006', '834060'], ['23426006', '834060', '608680'], ['23426006', '834101', '608680'], ['311791003', '824184'], ['23426006', '608680'], ['23426006', '834060', '608680'], ['73761001', '834060'], ['23426006', '608680'], ['23426006', '1020137', '608680'], ['23426006', '73761001', '834060'], ['73761001', '834060', '608680'], ['311791003', '824184'], ['23426006', '834060', '608680'], ['834060', '608680', '1020137'], ['23426006', '834060', '197378'], ['834060', '197378', '608680'], ['23426006', '1536586', '608680'], ['23426006', '608680'], ['23426006', '608680'], ['73761001', '834101'], ['23426006', '834060', '608680'], ['23426006', '1020137', '608680'], ['311791003', '282464', '392151'], ['282464', '392151', '198405'], ['311791003', '392151', '198405'], ['23426006', '608680', '831533'], ['23426006', '608680'], ['23426006', '608680'], ['73761001', '834060'], ['23426006', '608680'], ['23426006', '608680'], ['23426006', '1020137', '608680'], ['73761001', '834101', '834060'], ['23426006', '834060', '608680'], ['73761001', '834060'], ['23426006', '608680'], ['73761001', '834101', '834060'], ['73761001', '834060', '824184'], ['287664005', '824184'], ['46706006', '807283', '824184'], ['73761001', '834101', '834060'], ['23426006', '608680'], ['23426006', '834060', '608680'], ['311791003', '282464', '392151'], ['73761001', '834060', '824184'], ['23426006', '73761001', '608680'], ['23426006', '1536586', '608680'], ['1536586', '608680', '749785'], ['287664005', '834060', '824184'], ['834060', '824184', '751905'], ['824184', '751905', '1049630'], ['73761001', '834101'], ['73761001', '824184'], ['73761001', '834060'], ['23426006', '834060', '608680'], ['287664005', '755621000000101', '834060'], ['755621000000101', '834060', '106258'], ['834060', '106258', '727316'], ['106258', '727316', '1366342'], ['727316', '1366342', '997501'], ['23426006', '608680'], ['23426006', '834060', '608680'], ['23426006', '608680'], ['23426006', '834060', '608680'], ['23426006', '834060', '608680'], ['311791003', '282464', '309097'], ['23426006', '399208008', '834060'], ['399208008', '834060', '608680'], ['46706006', '834060', '824184'], ['22523008', '269911007', '608680'], ['23426006', '608680'], ['23426006', '608680'], ['311791003', '309097', '392151'], ['309097', '392151', '198405'], ['311791003', '834060', '824184'], ['23426006', '834060', '608680'], ['23426006', '608680'], ['23426006', '834060', '608680'], ['23426006', '834101', '608680'], ['311791003', '392151', '198405'], ['23426006', '608680'], ['23426006', '834060', '608680'], ['23426006', '73761001', '834060'], ['73761001', '834060', '608680'], ['23426006', '834060', '608680'], ['23426006', '311791003', '834060'], ['311791003', '834060', '608680'], ['23426006', '608680'], ['23426006', '834060', '608680'], ['23426006', '608680'], ['23426006', '834101', '608680'], ['23426006', '608680', '749882'], ['23426006', '834101', '834060'], ['834101', '834060', '608680'], ['311791003', '824184'], ['23426006', '608680'], ['23426006', '834060', '608680'], ['23426006', '608680'], ['755621000000101', '834060', '1366342'], ['834060', '1366342', '757594'], ['23426006', '608680'], ['311791003', '309097', '198405'], ['23426006', '608680', '748879'], ['68254000', '73761001', '46706006'], ['73761001', '46706006', '834060'], ['46706006', '834060', '1366342'], ['834060', '1366342', '824184'], ['23426006', '608680'], ['23426006', '608680'], ['73761001', '834060'], ['23426006', '608680', '751905'], ['311791003', '282464', '392151'], ['73761001', '834101', '834060'], ['23426006', '608680'], ['23426006', '608680'], ['23426006', '834060', '1020137'], ['834060', '1020137', '608680'], ['311791003', '392151', '198405'], ['73761001', '824184'], ['23426006', '608680'], ['23426006', '834101', '834060'], ['834101', '834060', '608680'], ['23426006', '834060', '608680'], ['23426006', '608680'], ['23426006', '834060', '1020137'], ['834060', '1020137', '608680'], ['23426006', '608680', '749785'], ['608680', '749785', '1049630'], ['23426006', '608680'], ['311791003', '282464', '392151'], ['23426006', '73761001', '834060'], ['73761001', '834060', '608680'], ['23426006', '834060', '608680'], ['23426006', '834060', '608680'], ['46706006', '834060'], ['23426006', '834060', '608680'], ['311791003', '392151', '198405'], ['23426006', '73761001', '834060'], ['73761001', '834060', '608680'], ['311791003', '282464', '392151'], ['73761001', '834060'], ['23426006', '608680'], ['23426006', '608680'], ['23426006', '755621000000101', '834060'], ['755621000000101', '834060', '608680'], ['65200003', '807283'], ['65200003', '824184'], ['73761001', '824184'], ['46706006', '757594'], ['73761001', '834101'], ['23426006', '608680'], ['23426006', '608680'], ['23426006', '608680'], ['23426006', '834060', '608680'], ['46706006', '834060'], ['23426006', '608680'], ['23426006', '608680'], ['23426006', '608680'], ['23426006', '748962', '608680'], ['73761001', '834060', '824184'], ['23426006', '1020137', '608680'], ['311791003', '46706006', '834060'], ['311791003', '282464'], ['46706006', '757594', '807283'], ['23426006', '834060', '608680'], ['23426006', '834101', '748962'], ['834101', '748962', '608680'], ['23426006', '608680'], ['23426006', '608680'], ['23426006', '73761001', '608680'], ['311791003', '395142003', '392151'], ['395142003', '392151', '282464'], ['392151', '282464', '997488'], ['282464', '997488', '727316'], ['65200003', '755621000000101', '834060'], ['755621000000101', '834060', '1366342'], ['834060', '1366342', '807283'], ['73761001', '824184'], ['73761001', '239981', '834060'], ['311791003', '309097', '392151'], ['309097', '392151', '198405'], ['23426006', '608680'], ['46706006', '834060'], ['23426006', '608680'], ['73761001', '834060', '824184'], ['73761001', '834060', '824184'], ['23426006', '834060', '608680'], ['73761001', '824184'], ['46706006', '824184'], ['23426006', '608680'], ['23426006', '608680'], ['23426006', '73761001', '608680'], ['73761001', '834060'], ['311791003', '46706006', '824184'], ['287664005', '46706006', '807283'], ['23426006', '608680'], ['23426006', '608680'], ['23426006', '608680'], ['311791003', '198405'], ['311791003', '392151', '198405'], ['23426006', '834060', '608680'], ['755621000000101', '749762', '1366342'], ['749762', '1366342', '824184'], ['23426006', '608680'], ['311791003', '392151', '198405'], ['23426006', '608680'], ['287664005', '834101'], ['46706006', '834060'], ['23426006', '608680'], ['73761001', '824184'], ['311791003', '282464', '309097'], ['282464', '309097', '392151'], ['311791003', '282464', '392151'], ['23426006', '608680'], ['23426006', '834060', '608680'], ['73761001', '834060'], ['23426006', '608680'], ['46706006', '834060'], ['46706006', '834060'], ['73761001', '834060'], ['311791003', '392151', '198405'], ['73761001', '834060'], ['73761001', '834060'], ['287664005', '831533'], ['23426006', '608680'], ['23426006', '608680'], ['73761001', '834101', '834060'], ['23426006', '73761001', '834060'], ['73761001', '834060', '608680'], ['23426006', '46706006', '608680'], ['23426006', '608680', '757594'], ['46706006', '834060', '824184'], ['311791003', '282464', '309097'], ['23426006', '834060', '608680'], ['46706006', '834060', '749785'], ['23426006', '608680'], ['311791003', '395142003', '392151'], ['395142003', '392151', '282464'], ['392151', '282464', '727316'], ['282464', '727316', '665078'], ['727316', '665078', '198405'], ['73761001', '834060'], ['73761001', '824184']]\n"
          ]
        }
      ],
      "source": [
        "print(windows)"
      ],
      "id": "MrZfzLllejA5"
    },
    {
      "cell_type": "code",
      "execution_count": 32,
      "metadata": {
        "id": "j9MLaX-AfEio"
      },
      "outputs": [],
      "source": [
        "word_window_freq = defaultdict(lambda :0)\n",
        "for window in windows:\n",
        "    appeared = set()\n",
        "    for word in window:\n",
        "        if word in appeared:\n",
        "            continue\n",
        "        word_window_freq[word]+=1\n",
        "        appeared.add(word)"
      ],
      "id": "j9MLaX-AfEio"
    },
    {
      "cell_type": "code",
      "execution_count": 33,
      "metadata": {
        "colab": {
          "base_uri": "https://localhost:8080/"
        },
        "id": "52Pk0EKmgnHU",
        "outputId": "5d6b67c1-f6d2-4d53-a81d-12ae016fa086"
      },
      "outputs": [
        {
          "output_type": "execute_result",
          "data": {
            "text/plain": [
              "{'311791003': 122,\n",
              " '282464': 56,\n",
              " '392151': 77,\n",
              " '73761001': 175,\n",
              " '834060': 252,\n",
              " '23426006': 357,\n",
              " '608680': 357,\n",
              " '824184': 95,\n",
              " '287664005': 29,\n",
              " '1049630': 6,\n",
              " '46706006': 48,\n",
              " '834101': 74,\n",
              " '757594': 8,\n",
              " '749762': 2,\n",
              " '1367439': 6,\n",
              " '1020137': 27,\n",
              " '309097': 23,\n",
              " '755621000000101': 33,\n",
              " '646250': 12,\n",
              " '1366342': 19,\n",
              " '65200003': 13,\n",
              " '807283': 28,\n",
              " '198405': 58,\n",
              " '748856': 9,\n",
              " '76601001': 3,\n",
              " '831533': 6,\n",
              " '751905': 6,\n",
              " '106258': 2,\n",
              " '389128': 1,\n",
              " '749785': 8,\n",
              " '22523008': 7,\n",
              " '1359133': 1,\n",
              " '1605257': 1,\n",
              " '68254000': 4,\n",
              " '395142003': 6,\n",
              " '727316': 7,\n",
              " '665078': 2,\n",
              " '1014676': 3,\n",
              " '749882': 3,\n",
              " '239981': 3,\n",
              " '301807007': 3,\n",
              " '748962': 5,\n",
              " '1856546': 2,\n",
              " '197378': 2,\n",
              " '748879': 2,\n",
              " '1536586': 3,\n",
              " '1000158': 1,\n",
              " '169553002': 1,\n",
              " '1111011': 1,\n",
              " '997501': 1,\n",
              " '399208008': 1,\n",
              " '269911007': 1,\n",
              " '997488': 1}"
            ]
          },
          "metadata": {},
          "execution_count": 33
        }
      ],
      "source": [
        "word_doc_freq"
      ],
      "id": "52Pk0EKmgnHU"
    },
    {
      "cell_type": "code",
      "execution_count": 34,
      "metadata": {
        "colab": {
          "base_uri": "https://localhost:8080/"
        },
        "id": "w1QBw12FghCC",
        "outputId": "3d0ce39f-e720-4efa-fc8f-77681d1087f0"
      },
      "outputs": [
        {
          "output_type": "execute_result",
          "data": {
            "text/plain": [
              "defaultdict(<function __main__.<lambda>()>,\n",
              "            {'311791003': 124,\n",
              "             '282464': 80,\n",
              "             '392151': 102,\n",
              "             '73761001': 198,\n",
              "             '834060': 317,\n",
              "             '23426006': 358,\n",
              "             '608680': 366,\n",
              "             '824184': 97,\n",
              "             '287664005': 30,\n",
              "             '1049630': 6,\n",
              "             '46706006': 58,\n",
              "             '834101': 95,\n",
              "             '757594': 8,\n",
              "             '749762': 5,\n",
              "             '1367439': 8,\n",
              "             '1020137': 33,\n",
              "             '309097': 41,\n",
              "             '755621000000101': 41,\n",
              "             '646250': 12,\n",
              "             '1366342': 28,\n",
              "             '65200003': 13,\n",
              "             '807283': 33,\n",
              "             '198405': 58,\n",
              "             '748856': 12,\n",
              "             '76601001': 4,\n",
              "             '831533': 6,\n",
              "             '751905': 8,\n",
              "             '106258': 5,\n",
              "             '389128': 1,\n",
              "             '749785': 11,\n",
              "             '22523008': 9,\n",
              "             '1359133': 1,\n",
              "             '1605257': 2,\n",
              "             '68254000': 4,\n",
              "             '395142003': 9,\n",
              "             '727316': 16,\n",
              "             '665078': 4,\n",
              "             '1014676': 7,\n",
              "             '749882': 3,\n",
              "             '239981': 4,\n",
              "             '301807007': 4,\n",
              "             '748962': 8,\n",
              "             '1856546': 4,\n",
              "             '197378': 3,\n",
              "             '748879': 2,\n",
              "             '1536586': 4,\n",
              "             '1000158': 3,\n",
              "             '169553002': 1,\n",
              "             '1111011': 3,\n",
              "             '997501': 1,\n",
              "             '399208008': 2,\n",
              "             '269911007': 1,\n",
              "             '997488': 2})"
            ]
          },
          "metadata": {},
          "execution_count": 34
        }
      ],
      "source": [
        "# the difference between word_doc_freq is that a document may be in multiple windows so the count is usually more\n",
        "word_window_freq"
      ],
      "id": "w1QBw12FghCC"
    },
    {
      "cell_type": "code",
      "execution_count": 35,
      "metadata": {
        "id": "dfjk-6KAhKC9"
      },
      "outputs": [],
      "source": [
        "word_pair_count = defaultdict(lambda :0)\n",
        "for window in windows:\n",
        "    for i in range(1, len(window)):\n",
        "        for j in range(0,i):\n",
        "            word_i = window[i]\n",
        "            word_j = window[j]\n",
        "            word_i_id  = word_id_map[word_i]\n",
        "            word_j_id =  word_id_map[word_j]\n",
        "            if word_i_id == word_j_id:\n",
        "                continue\n",
        "            word_pair_str = str(word_i_id) + ',' + str(word_j_id)\n",
        "            word_pair_count[word_pair_str]+=1\n",
        "            word_pair_str = str(word_j_id) + ',' + str(word_i_id)\n",
        "            word_pair_count[word_pair_str]+=1"
      ],
      "id": "dfjk-6KAhKC9"
    },
    {
      "cell_type": "code",
      "execution_count": 36,
      "metadata": {
        "colab": {
          "base_uri": "https://localhost:8080/"
        },
        "id": "6EwBcfglhe0F",
        "outputId": "3f223d1b-eade-4aa8-8b57-a7ed3563356b"
      },
      "outputs": [
        {
          "output_type": "stream",
          "name": "stdout",
          "text": [
            "defaultdict(<function <lambda> at 0x7f603a7dee60>, {'27,19': 51, '19,27': 51, '36,19': 69, '19,36': 69, '36,27': 57, '27,36': 57, '10,41': 117, '41,10': 117, '28,49': 314, '49,28': 314, '41,49': 34, '49,41': 34, '10,49': 113, '49,10': 113, '28,41': 30, '41,28': 30, '28,10': 120, '10,28': 120, '14,41': 44, '41,14': 44, '33,39': 2, '39,33': 2, '3,0': 6, '0,3': 6, '4,0': 4, '0,4': 4, '4,3': 1, '3,4': 1, '3,49': 18, '49,3': 18, '15,49': 1, '49,15': 1, '15,3': 2, '3,15': 2, '28,3': 19, '3,28': 19, '28,15': 2, '15,28': 2, '38,15': 1, '15,38': 1, '38,28': 1, '28,38': 1, '30,49': 20, '49,30': 20, '28,30': 23, '30,28': 23, '26,19': 19, '19,26': 19, '26,27': 22, '27,26': 22, '36,26': 18, '26,36': 18, '2,39': 5, '39,2': 5, '25,39': 2, '39,25': 2, '25,2': 11, '2,25': 11, '47,39': 2, '39,47': 2, '47,2': 14, '2,47': 14, '3,19': 1, '19,3': 1, '38,19': 1, '19,38': 1, '38,3': 2, '3,38': 2, '14,3': 4, '3,14': 4, '14,38': 3, '38,14': 3, '38,12': 1, '12,38': 1, '14,12': 3, '12,14': 3, '16,0': 22, '0,16': 22, '10,3': 36, '3,10': 36, '10,39': 13, '39,10': 13, '17,19': 38, '19,17': 38, '17,36': 43, '36,17': 43, '37,49': 4, '49,37': 4, '28,37': 5, '37,28': 5, '4,13': 1, '13,4': 1, '3,41': 51, '41,3': 51, '17,27': 10, '27,17': 10, '14,10': 35, '10,14': 35, '38,2': 3, '2,38': 3, '38,47': 2, '47,38': 2, '6,39': 3, '39,6': 3, '3,12': 2, '12,3': 2, '10,12': 5, '12,10': 5, '16,3': 2, '3,16': 2, '16,10': 13, '10,16': 13, '17,26': 13, '26,17': 13, '42,39': 1, '39,42': 1, '14,39': 7, '39,14': 7, '14,42': 3, '42,14': 3, '14,2': 3, '2,14': 3, '14,47': 5, '47,14': 5, '14,19': 17, '19,14': 17, '19,49': 7, '49,19': 7, '28,19': 6, '19,28': 6, '43,3': 1, '3,43': 1, '43,10': 4, '10,43': 4, '52,10': 1, '10,52': 1, '52,43': 1, '43,52': 1, '50,39': 3, '39,50': 3, '14,0': 8, '0,14': 8, '14,25': 2, '25,14': 2, '10,2': 19, '2,10': 19, '38,10': 2, '10,38': 2, '28,8': 5, '8,28': 5, '30,41': 4, '41,30': 4, '10,19': 8, '19,10': 8, '37,19': 1, '19,37': 1, '37,10': 5, '10,37': 5, '16,4': 2, '4,16': 2, '37,12': 2, '12,37': 2, '16,12': 3, '12,16': 3, '16,37': 1, '37,16': 1, '39,49': 1, '49,39': 1, '28,39': 1, '39,28': 1, '30,10': 12, '10,30': 12, '24,39': 1, '39,24': 1, '14,24': 1, '24,14': 1, '25,10': 4, '10,25': 4, '44,12': 1, '12,44': 1, '37,44': 2, '44,37': 2, '14,44': 1, '44,14': 1, '14,37': 1, '37,14': 1, '49,40': 1, '40,49': 1, '41,40': 4, '40,41': 4, '3,2': 4, '2,3': 4, '25,3': 1, '3,25': 1, '10,0': 28, '0,10': 28, '14,6': 1, '6,14': 1, '36,45': 8, '45,36': 8, '27,45': 3, '45,27': 3, '18,27': 6, '27,18': 6, '18,26': 8, '26,18': 8, '31,26': 1, '26,31': 1, '31,18': 4, '18,31': 4, '17,18': 5, '18,17': 5, '17,31': 2, '31,17': 2, '2,49': 2, '49,2': 2, '28,2': 2, '2,28': 2, '21,45': 4, '45,21': 4, '36,21': 6, '21,36': 6, '27,21': 2, '21,27': 2, '8,41': 3, '41,8': 3, '10,8': 3, '8,10': 3, '37,39': 2, '39,37': 2, '32,39': 1, '39,32': 1, '32,10': 1, '10,32': 1, '0,49': 2, '49,0': 2, '28,0': 2, '0,28': 2, '3,8': 3, '8,3': 3, '14,8': 1, '8,14': 1, '33,10': 1, '10,33': 1, '0,40': 3, '40,0': 3, '0,41': 7, '41,0': 7, '34,41': 2, '41,34': 2, '14,34': 2, '34,14': 2, '0,12': 2, '12,0': 2, '32,0': 1, '0,32': 1, '32,16': 1, '16,32': 1, '8,49': 1, '49,8': 1, '2,41': 1, '41,2': 1, '9,41': 1, '41,9': 1, '9,2': 2, '2,9': 2, '47,9': 3, '9,47': 3, '42,49': 4, '49,42': 4, '28,42': 4, '42,28': 4, '42,30': 2, '30,42': 2, '25,13': 1, '13,25': 1, '14,13': 1, '13,14': 1, '0,39': 3, '39,0': 3, '11,2': 1, '2,11': 1, '10,11': 5, '11,10': 5, '47,11': 1, '11,47': 1, '47,10': 9, '10,47': 9, '11,12': 1, '12,11': 1, '47,3': 4, '3,47': 4, '4,2': 1, '2,4': 1, '14,4': 1, '4,14': 1, '5,10': 3, '10,5': 3, '5,16': 2, '16,5': 2, '20,16': 1, '16,20': 1, '20,5': 1, '5,20': 1, '47,41': 1, '41,47': 1, '47,0': 2, '0,47': 2, '29,10': 1, '10,29': 1, '29,28': 2, '28,29': 2, '30,3': 2, '3,30': 2, '50,10': 7, '10,50': 7, '23,49': 3, '49,23': 3, '28,23': 4, '23,28': 4, '14,16': 2, '16,14': 2, '6,3': 1, '3,6': 1, '6,47': 1, '47,6': 1, '34,0': 1, '0,34': 1, '10,34': 3, '34,10': 3, '50,41': 1, '41,50': 1, '14,50': 2, '50,14': 2, '14,9': 1, '9,14': 1, '13,0': 1, '0,13': 1, '48,0': 1, '0,48': 1, '48,13': 2, '13,48': 2, '16,13': 1, '13,16': 1, '16,48': 2, '48,16': 2, '33,48': 1, '48,33': 1, '33,16': 1, '16,33': 1, '11,49': 3, '49,11': 3, '28,11': 3, '11,28': 3, '41,19': 1, '19,41': 1, '33,49': 1, '49,33': 1, '33,28': 2, '28,33': 2, '16,39': 2, '39,16': 2, '2,51': 1, '51,2': 1, '22,51': 1, '51,22': 1, '22,2': 2, '2,22': 2, '10,22': 2, '22,10': 2, '50,22': 1, '22,50': 1, '2,12': 2, '12,2': 2, '16,47': 2, '47,16': 2, '5,12': 1, '12,5': 1, '14,5': 1, '5,14': 1, '45,19': 3, '19,45': 3, '21,19': 1, '19,21': 1, '26,21': 1, '21,26': 1, '18,36': 2, '36,18': 2, '6,41': 1, '41,6': 1, '6,10': 1, '10,6': 1, '20,49': 1, '49,20': 1, '20,10': 2, '10,20': 2, '28,20': 1, '20,28': 1, '6,49': 1, '49,6': 1, '6,28': 1, '28,6': 1, '50,23': 1, '23,50': 1, '50,28': 3, '28,50': 3, '42,10': 1, '10,42': 1, '33,14': 1, '14,33': 1, '33,42': 1, '42,33': 1, '43,2': 1, '2,43': 1, '18,10': 1, '10,18': 1, '18,43': 2, '43,18': 2, '47,43': 1, '43,47': 1, '47,18': 2, '18,47': 2, '7,18': 1, '18,7': 1, '7,47': 1, '47,7': 1, '35,49': 1, '49,35': 1, '10,35': 2, '35,10': 2, '28,35': 1, '35,28': 1, '46,8': 1, '8,46': 1, '28,46': 1, '46,28': 1, '32,49': 1, '49,32': 1, '32,28': 1, '28,32': 1, '4,10': 1, '10,4': 1, '4,47': 1, '47,4': 1, '29,49': 1, '49,29': 1, '50,49': 1, '49,50': 1, '33,50': 1, '50,33': 1, '0,19': 2, '19,0': 2, '11,3': 2, '3,11': 2, '1,36': 1, '36,1': 1, '1,27': 2, '27,1': 2, '18,1': 1, '1,18': 1, '15,2': 1, '2,15': 1, '47,15': 2, '15,47': 2, '14,15': 1, '15,14': 1, '3,39': 1, '39,3': 1, '4,49': 1, '49,4': 1, '4,28': 1, '28,4': 1, '50,0': 1, '0,50': 1, '31,27': 1, '27,31': 1})\n",
            "476\n"
          ]
        }
      ],
      "source": [
        "print(word_pair_count)\n",
        "print(len(word_pair_count))"
      ],
      "id": "6EwBcfglhe0F"
    },
    {
      "cell_type": "code",
      "execution_count": 37,
      "metadata": {
        "id": "u8dwwuCfinoX"
      },
      "outputs": [],
      "source": [
        "# Word-Word node pmi as weights\n",
        "row = []\n",
        "col = []\n",
        "weight = []\n",
        "num_window = len(windows)\n",
        "\n",
        "for key in word_pair_count:\n",
        "    temp = key.split(',')\n",
        "    i = int(temp[0])\n",
        "    j = int(temp[1])\n",
        "    count = word_pair_count[key]\n",
        "    word_freq_i = word_window_freq[vocab[i]]\n",
        "    word_freq_j = word_window_freq[vocab[j]]\n",
        "    pmi = np.log((1.0 * count / num_window) /(1.0 * word_freq_i * word_freq_j/(num_window * num_window)))\n",
        "    if pmi <= 0:\n",
        "        continue\n",
        "    row.append(train_size+val_size +i)\n",
        "    col.append(train_size+val_size + j)\n",
        "    weight.append(pmi)\n"
      ],
      "id": "u8dwwuCfinoX"
    },
    {
      "cell_type": "code",
      "execution_count": 38,
      "metadata": {
        "colab": {
          "base_uri": "https://localhost:8080/"
        },
        "id": "6uUtUXMHj_S5",
        "outputId": "67d516dc-907a-4787-b864-0ec849fc1dd2"
      },
      "outputs": [
        {
          "output_type": "stream",
          "name": "stdout",
          "text": [
            "[642, 634, 651, 634, 651, 642, 625, 656, 643, 664, 629, 656, 648, 654, 619, 615, 619, 618, 630, 618, 653, 630, 645, 664, 643, 645, 641, 634, 641, 642, 651, 641, 617, 654, 640, 654, 640, 617, 662, 654, 662, 617, 653, 618, 629, 653, 653, 627, 629, 627, 631, 615, 625, 618, 625, 654, 632, 634, 632, 651, 619, 628, 618, 656, 632, 642, 653, 617, 653, 662, 621, 654, 618, 627, 625, 627, 631, 625, 632, 641, 657, 654, 629, 654, 629, 657, 629, 662, 629, 634, 658, 618, 658, 625, 667, 625, 667, 658, 665, 654, 629, 615, 629, 640, 625, 617, 643, 623, 652, 625, 631, 619, 652, 627, 631, 627, 631, 652, 639, 654, 629, 639, 659, 627, 652, 659, 629, 659, 656, 655, 625, 615, 629, 621, 651, 660, 642, 660, 633, 642, 633, 641, 646, 641, 646, 633, 632, 633, 632, 646, 636, 660, 651, 636, 642, 636, 623, 656, 652, 654, 647, 654, 618, 623, 615, 655, 649, 656, 629, 649, 615, 627, 647, 615, 647, 631, 624, 656, 624, 617, 662, 624, 657, 664, 643, 657, 657, 645, 640, 628, 629, 628, 615, 654, 626, 617, 625, 626, 662, 626, 626, 627, 662, 618, 619, 617, 629, 619, 620, 625, 620, 631, 635, 631, 635, 620, 662, 615, 644, 625, 644, 643, 665, 625, 638, 664, 643, 638, 621, 618, 621, 662, 649, 615, 625, 649, 629, 665, 629, 624, 628, 615, 663, 615, 663, 628, 631, 628, 631, 663, 648, 663, 648, 631, 631, 654, 617, 666, 637, 666, 637, 617, 625, 637, 665, 637, 617, 627, 631, 662, 620, 627, 629, 620, 660, 634, 641, 636, 633, 651, 635, 625, 665, 638, 648, 629, 648, 657, 658, 617, 633, 658, 662, 658, 662, 633, 622, 633, 622, 662, 650, 664, 625, 650, 643, 650, 661, 623, 643, 661, 619, 662, 644, 664, 648, 665, 626, 618, 616, 651, 616, 642, 633, 616, 630, 617, 662, 630, 629, 630, 665, 615, 646, 642]\n",
            "334\n"
          ]
        }
      ],
      "source": [
        "print(row)\n",
        "print(len(row))"
      ],
      "id": "6uUtUXMHj_S5"
    },
    {
      "cell_type": "code",
      "execution_count": 39,
      "metadata": {
        "colab": {
          "base_uri": "https://localhost:8080/"
        },
        "id": "UXr4ekK6kAc2",
        "outputId": "fc8bcdff-6448-4e62-e0f4-d1437efd5550"
      },
      "outputs": [
        {
          "output_type": "stream",
          "name": "stdout",
          "text": [
            "[634, 642, 634, 651, 642, 651, 656, 625, 664, 643, 656, 629, 654, 648, 615, 619, 618, 619, 618, 630, 630, 653, 664, 645, 645, 643, 634, 641, 642, 641, 641, 651, 654, 617, 654, 640, 617, 640, 654, 662, 617, 662, 618, 653, 653, 629, 627, 653, 627, 629, 615, 631, 618, 625, 654, 625, 634, 632, 651, 632, 628, 619, 656, 618, 642, 632, 617, 653, 662, 653, 654, 621, 627, 618, 627, 625, 625, 631, 641, 632, 654, 657, 654, 629, 657, 629, 662, 629, 634, 629, 618, 658, 625, 658, 625, 667, 658, 667, 654, 665, 615, 629, 640, 629, 617, 625, 623, 643, 625, 652, 619, 631, 627, 652, 627, 631, 652, 631, 654, 639, 639, 629, 627, 659, 659, 652, 659, 629, 655, 656, 615, 625, 621, 629, 660, 651, 660, 642, 642, 633, 641, 633, 641, 646, 633, 646, 633, 632, 646, 632, 660, 636, 636, 651, 636, 642, 656, 623, 654, 652, 654, 647, 623, 618, 655, 615, 656, 649, 649, 629, 627, 615, 615, 647, 631, 647, 656, 624, 617, 624, 624, 662, 664, 657, 657, 643, 645, 657, 628, 640, 628, 629, 654, 615, 617, 626, 626, 625, 626, 662, 627, 626, 618, 662, 617, 619, 619, 629, 625, 620, 631, 620, 631, 635, 620, 635, 615, 662, 625, 644, 643, 644, 625, 665, 664, 638, 638, 643, 618, 621, 662, 621, 615, 649, 649, 625, 665, 629, 624, 629, 615, 628, 615, 663, 628, 663, 628, 631, 663, 631, 663, 648, 631, 648, 654, 631, 666, 617, 666, 637, 617, 637, 637, 625, 637, 665, 627, 617, 662, 631, 627, 620, 620, 629, 634, 660, 636, 641, 651, 633, 625, 635, 638, 665, 629, 648, 657, 648, 617, 658, 658, 633, 658, 662, 633, 662, 633, 622, 662, 622, 664, 650, 650, 625, 650, 643, 623, 661, 661, 643, 662, 619, 664, 644, 665, 648, 618, 626, 651, 616, 642, 616, 616, 633, 617, 630, 630, 662, 630, 629, 615, 665, 642, 646]\n",
            "334\n"
          ]
        }
      ],
      "source": [
        "print(col)\n",
        "print(len(col))"
      ],
      "id": "UXr4ekK6kAc2"
    },
    {
      "cell_type": "code",
      "execution_count": 40,
      "metadata": {
        "colab": {
          "base_uri": "https://localhost:8080/"
        },
        "id": "VLolyEqbkBFv",
        "outputId": "9d4b1094-bcfd-4b27-ad38-13005aaeb408"
      },
      "outputs": [
        {
          "output_type": "stream",
          "name": "stdout",
          "text": [
            "[1.4922469393772866, 1.4922469393772866, 1.5515816326398308, 1.5515816326398308, 1.7987813268082766, 1.7987813268082766, 0.4777346371578195, 0.4777346371578195, 0.728956173038066, 0.728956173038066, 0.6839411316522225, 0.6839411316522225, 2.2629198366016143, 2.2629198366016143, 2.009139315825515, 2.009139315825515, 0.1294110736515025, 0.1294110736515025, 1.2925618834571835, 1.2925618834571835, 3.073850052817943, 3.073850052817943, 0.38142123261868977, 0.38142123261868977, 0.4990828279931826, 0.4990828279931826, 1.1733148537889753, 1.1733148537889753, 1.7581732589120058, 1.7581732589120058, 1.3145563848394652, 1.3145563848394652, 1.2573979709995164, 1.2573979709995164, 1.569772656041669, 1.569772656041669, 2.9621460632379417, 2.9621460632379417, 0.7224747956544655, 0.7224747956544655, 2.356010259667626, 2.356010259667626, 0.8225582542114478, 0.8225582542114478, 1.2071892754167703, 1.2071892754167703, 2.118338607790507, 2.118338607790507, 0.7216814596350696, 0.7216814596350696, 2.2968213882772957, 2.2968213882772957, 0.03346977991016777, 0.03346977991016777, 0.16757970885398005, 0.16757970885398005, 1.5195910905068089, 1.5195910905068089, 1.8385137987947513, 1.8385137987947513, 3.296993604132153, 3.296993604132153, 0.852411217361129, 0.852411217361129, 0.6228449547056241, 0.6228449547056241, 2.068328187215845, 2.068328187215845, 2.0442306356367848, 2.0442306356367848, 2.6683849447097785, 2.6683849447097785, 0.33705043842974697, 0.33705043842974697, 0.04831628802716236, 0.04831628802716236, 0.07226952904965517, 0.07226952904965517, 1.5536637871426888, 1.5536637871426888, 1.2820905835898881, 1.2820905835898881, 0.7327312958216543, 0.7327312958216543, 1.2071892754167703, 1.2071892754167703, 0.465251930687393, 0.465251930687393, 0.20095030687967572, 0.20095030687967572, 0.5994147028972382, 0.5994147028972382, 0.780684181740389, 0.780684181740389, 1.0038277330545988, 1.0038277330545988, 5.153291594497779, 5.153291594497779, 2.0622491411394632, 2.0622491411394632, 0.20701705956191319, 0.20701705956191319, 0.3962590592004415, 0.3962590592004415, 0.23469464551673133, 0.23469464551673133, 0.272309508628394, 0.272309508628394, 0.1283589957006988, 0.1283589957006988, 1.8799275843455086, 1.8799275843455086, 2.4060206802422877, 2.4060206802422877, 1.799884876671972, 1.799884876671972, 0.781315295677399, 0.781315295677399, 3.361532125269724, 3.361532125269724, 2.1880185284284965, 2.1880185284284965, 3.504632968910397, 3.504632968910397, 4.277822857143879, 4.277822857143879, 1.4948713478685514, 1.4948713478685514, 1.4744624762373442, 1.4744624762373442, 0.2755892326833831, 0.2755892326833831, 0.3962590592004415, 0.3962590592004415, 2.019973657991225, 2.019973657991225, 1.282090583589888, 1.282090583589888, 1.3998736192462715, 1.3998736192462715, 2.356010259667626, 2.356010259667626, 1.6628630791076808, 1.6628630791076808, 3.990140784692098, 3.990140784692098, 1.5391356865797792, 1.5391356865797792, 2.009139315825515, 2.009139315825515, 4.005889141660237, 4.005889141660237, 1.98360601382035, 1.98360601382035, 1.1279399037626296, 1.1279399037626296, 0.37585018756923444, 0.37585018756923444, 1.569772656041669, 1.569772656041669, 2.2629198366016143, 2.2629198366016143, 1.1102403266632286, 1.1102403266632286, 2.414604423933679, 2.414604423933679, 0.781315295677399, 0.781315295677399, 1.4948713478685514, 1.4948713478685514, 0.8304843194838685, 0.8304843194838685, 1.6036742077173505, 1.6036742077173505, 2.1676096567972896, 2.1676096567972896, 0.08816811511745364, 0.08816811511745364, 2.356010259667626, 2.356010259667626, 3.1428429243048943, 3.1428429243048943, 0.18904933997123377, 0.18904933997123377, 0.16694899297056778, 0.16694899297056778, 1.8799275843455086, 1.8799275843455086, 2.8915284960239886, 2.8915284960239886, 0.8017241673086061, 0.8017241673086061, 0.3997014033914142, 0.3997014033914142, 0.9697158985477355, 0.9697158985477355, 0.5338241038088631, 0.5338241038088631, 1.3510834550768396, 1.3510834550768396, 2.118338607790507, 2.118338607790507, 0.2629424662760252, 0.2629424662760252, 0.9697158985477355, 0.9697158985477355, 0.1085769867486608, 0.1085769867486608, 0.7161456606028177, 0.7161456606028177, 2.5730747649054537, 2.5730747649054537, 2.1676096567972896, 2.1676096567972896, 4.277822857143879, 4.277822857143879, 0.06322916677020142, 0.06322916677020142, 0.31068055249465354, 0.31068055249465354, 0.8600961735305132, 0.8600961735305132, 0.5518426093115415, 0.5518426093115415, 0.594514448079398, 0.594514448079398, 0.8600961735305132, 0.8600961735305132, 0.4170931461032837, 0.4170931461032837, 1.6387655275286204, 1.6387655275286204, 1.3159921352655695, 1.3159921352655695, 0.7161456606028177, 0.7161456606028177, 0.4832704361900713, 0.4832704361900713, 0.8017241673086061, 0.8017241673086061, 1.3159921352655695, 1.3159921352655695, 1.6036742077173505, 1.6036742077173505, 4.970970037703824, 4.970970037703824, 1.8799275843455086, 1.8799275843455086, 2.860756837357235, 2.860756837357235, 3.872357749035715, 3.872357749035715, 1.4744624762373442, 1.4744624762373442, 0.558171744363189, 0.558171744363189, 3.0491574402275714, 3.0491574402275714, 5.66411721826377, 5.66411721826377, 2.6436923321194072, 2.6436923321194072, 0.5983626249464343, 0.5983626249464343, 3.266221945465399, 3.266221945465399, 1.17735526332598, 1.17735526332598, 0.6271646158501406, 0.6271646158501406, 2.8114857883504523, 2.8114857883504523, 0.8017241673086061, 0.8017241673086061, 0.8438356526587327, 0.8438356526587327, 1.1032472911722584, 1.1032472911722584, 0.05831515196777232, 0.05831515196777232, 0.5983626249464343, 0.5983626249464343, 2.9785398730136183, 2.9785398730136183, 0.3962590592004415, 0.3962590592004415, 2.8915284960239886, 2.8915284960239886, 1.4397195277934711, 1.4397195277934711, 3.073850052817943, 3.073850052817943, 1.821087084322575, 1.821087084322575, 1.3510834550768396, 1.3510834550768396, 3.990140784692098, 3.990140784692098, 3.4305249967566755, 3.4305249967566755, 0.18904933997123377, 0.18904933997123377, 1.0038277330545988, 1.0038277330545988, 0.16694899297056778, 0.16694899297056778, 4.56550492959566, 4.56550492959566, 0.8600961735305132, 0.8600961735305132, 1.3510834550768396, 1.3510834550768396, 0.18904933997123377, 0.18904933997123377, 2.5730747649054537, 2.5730747649054537, 0.8225582542114478, 0.8225582542114478, 1.4446095130876628, 1.4446095130876628, 2.3807028722579977, 2.3807028722579977, 3.296993604132153, 3.296993604132153, 1.4397195277934711, 1.4397195277934711, 2.5142342648825204, 2.5142342648825204, 0.5785806159943961, 0.5785806159943961, 0.30439122358708953, 0.30439122358708953, 0.9944085111381071, 0.9944085111381071]\n",
            "334\n"
          ]
        }
      ],
      "source": [
        "print(weight)\n",
        "print(len(weight))"
      ],
      "id": "VLolyEqbkBFv"
    },
    {
      "cell_type": "code",
      "execution_count": 41,
      "metadata": {
        "id": "3MuV2iBcmrNP"
      },
      "outputs": [],
      "source": [
        "# doc word frequency\n",
        "doc_word_freq = defaultdict(lambda : 0)\n",
        "for doc_id, doc in enumerate(shuffled_document):\n",
        "    words = doc_words.split()\n",
        "    for word in words:\n",
        "        word_id = word_id_map[word]\n",
        "        doc_word_str = str(doc_id) + ',' + str(word_id)\n",
        "        doc_word_freq[doc_word_str]+=1"
      ],
      "id": "3MuV2iBcmrNP"
    },
    {
      "cell_type": "code",
      "execution_count": 42,
      "metadata": {
        "id": "zyr3pG3am4nj",
        "colab": {
          "base_uri": "https://localhost:8080/"
        },
        "outputId": "3bb58e7a-4a1e-4e6f-d468-a942f464ae06"
      },
      "outputs": [
        {
          "output_type": "execute_result",
          "data": {
            "text/plain": [
              "defaultdict(<function __main__.<lambda>()>,\n",
              "            {'0,41': 1,\n",
              "             '0,14': 1,\n",
              "             '1,41': 1,\n",
              "             '1,14': 1,\n",
              "             '2,41': 1,\n",
              "             '2,14': 1,\n",
              "             '3,41': 1,\n",
              "             '3,14': 1,\n",
              "             '4,41': 1,\n",
              "             '4,14': 1,\n",
              "             '5,41': 1,\n",
              "             '5,14': 1,\n",
              "             '6,41': 1,\n",
              "             '6,14': 1,\n",
              "             '7,41': 1,\n",
              "             '7,14': 1,\n",
              "             '8,41': 1,\n",
              "             '8,14': 1,\n",
              "             '9,41': 1,\n",
              "             '9,14': 1,\n",
              "             '10,41': 1,\n",
              "             '10,14': 1,\n",
              "             '11,41': 1,\n",
              "             '11,14': 1,\n",
              "             '12,41': 1,\n",
              "             '12,14': 1,\n",
              "             '13,41': 1,\n",
              "             '13,14': 1,\n",
              "             '14,41': 1,\n",
              "             '14,14': 1,\n",
              "             '15,41': 1,\n",
              "             '15,14': 1,\n",
              "             '16,41': 1,\n",
              "             '16,14': 1,\n",
              "             '17,41': 1,\n",
              "             '17,14': 1,\n",
              "             '18,41': 1,\n",
              "             '18,14': 1,\n",
              "             '19,41': 1,\n",
              "             '19,14': 1,\n",
              "             '20,41': 1,\n",
              "             '20,14': 1,\n",
              "             '21,41': 1,\n",
              "             '21,14': 1,\n",
              "             '22,41': 1,\n",
              "             '22,14': 1,\n",
              "             '23,41': 1,\n",
              "             '23,14': 1,\n",
              "             '24,41': 1,\n",
              "             '24,14': 1,\n",
              "             '25,41': 1,\n",
              "             '25,14': 1,\n",
              "             '26,41': 1,\n",
              "             '26,14': 1,\n",
              "             '27,41': 1,\n",
              "             '27,14': 1,\n",
              "             '28,41': 1,\n",
              "             '28,14': 1,\n",
              "             '29,41': 1,\n",
              "             '29,14': 1,\n",
              "             '30,41': 1,\n",
              "             '30,14': 1,\n",
              "             '31,41': 1,\n",
              "             '31,14': 1,\n",
              "             '32,41': 1,\n",
              "             '32,14': 1,\n",
              "             '33,41': 1,\n",
              "             '33,14': 1,\n",
              "             '34,41': 1,\n",
              "             '34,14': 1,\n",
              "             '35,41': 1,\n",
              "             '35,14': 1,\n",
              "             '36,41': 1,\n",
              "             '36,14': 1,\n",
              "             '37,41': 1,\n",
              "             '37,14': 1,\n",
              "             '38,41': 1,\n",
              "             '38,14': 1,\n",
              "             '39,41': 1,\n",
              "             '39,14': 1,\n",
              "             '40,41': 1,\n",
              "             '40,14': 1,\n",
              "             '41,41': 1,\n",
              "             '41,14': 1,\n",
              "             '42,41': 1,\n",
              "             '42,14': 1,\n",
              "             '43,41': 1,\n",
              "             '43,14': 1,\n",
              "             '44,41': 1,\n",
              "             '44,14': 1,\n",
              "             '45,41': 1,\n",
              "             '45,14': 1,\n",
              "             '46,41': 1,\n",
              "             '46,14': 1,\n",
              "             '47,41': 1,\n",
              "             '47,14': 1,\n",
              "             '48,41': 1,\n",
              "             '48,14': 1,\n",
              "             '49,41': 1,\n",
              "             '49,14': 1,\n",
              "             '50,41': 1,\n",
              "             '50,14': 1,\n",
              "             '51,41': 1,\n",
              "             '51,14': 1,\n",
              "             '52,41': 1,\n",
              "             '52,14': 1,\n",
              "             '53,41': 1,\n",
              "             '53,14': 1,\n",
              "             '54,41': 1,\n",
              "             '54,14': 1,\n",
              "             '55,41': 1,\n",
              "             '55,14': 1,\n",
              "             '56,41': 1,\n",
              "             '56,14': 1,\n",
              "             '57,41': 1,\n",
              "             '57,14': 1,\n",
              "             '58,41': 1,\n",
              "             '58,14': 1,\n",
              "             '59,41': 1,\n",
              "             '59,14': 1,\n",
              "             '60,41': 1,\n",
              "             '60,14': 1,\n",
              "             '61,41': 1,\n",
              "             '61,14': 1,\n",
              "             '62,41': 1,\n",
              "             '62,14': 1,\n",
              "             '63,41': 1,\n",
              "             '63,14': 1,\n",
              "             '64,41': 1,\n",
              "             '64,14': 1,\n",
              "             '65,41': 1,\n",
              "             '65,14': 1,\n",
              "             '66,41': 1,\n",
              "             '66,14': 1,\n",
              "             '67,41': 1,\n",
              "             '67,14': 1,\n",
              "             '68,41': 1,\n",
              "             '68,14': 1,\n",
              "             '69,41': 1,\n",
              "             '69,14': 1,\n",
              "             '70,41': 1,\n",
              "             '70,14': 1,\n",
              "             '71,41': 1,\n",
              "             '71,14': 1,\n",
              "             '72,41': 1,\n",
              "             '72,14': 1,\n",
              "             '73,41': 1,\n",
              "             '73,14': 1,\n",
              "             '74,41': 1,\n",
              "             '74,14': 1,\n",
              "             '75,41': 1,\n",
              "             '75,14': 1,\n",
              "             '76,41': 1,\n",
              "             '76,14': 1,\n",
              "             '77,41': 1,\n",
              "             '77,14': 1,\n",
              "             '78,41': 1,\n",
              "             '78,14': 1,\n",
              "             '79,41': 1,\n",
              "             '79,14': 1,\n",
              "             '80,41': 1,\n",
              "             '80,14': 1,\n",
              "             '81,41': 1,\n",
              "             '81,14': 1,\n",
              "             '82,41': 1,\n",
              "             '82,14': 1,\n",
              "             '83,41': 1,\n",
              "             '83,14': 1,\n",
              "             '84,41': 1,\n",
              "             '84,14': 1,\n",
              "             '85,41': 1,\n",
              "             '85,14': 1,\n",
              "             '86,41': 1,\n",
              "             '86,14': 1,\n",
              "             '87,41': 1,\n",
              "             '87,14': 1,\n",
              "             '88,41': 1,\n",
              "             '88,14': 1,\n",
              "             '89,41': 1,\n",
              "             '89,14': 1,\n",
              "             '90,41': 1,\n",
              "             '90,14': 1,\n",
              "             '91,41': 1,\n",
              "             '91,14': 1,\n",
              "             '92,41': 1,\n",
              "             '92,14': 1,\n",
              "             '93,41': 1,\n",
              "             '93,14': 1,\n",
              "             '94,41': 1,\n",
              "             '94,14': 1,\n",
              "             '95,41': 1,\n",
              "             '95,14': 1,\n",
              "             '96,41': 1,\n",
              "             '96,14': 1,\n",
              "             '97,41': 1,\n",
              "             '97,14': 1,\n",
              "             '98,41': 1,\n",
              "             '98,14': 1,\n",
              "             '99,41': 1,\n",
              "             '99,14': 1,\n",
              "             '100,41': 1,\n",
              "             '100,14': 1,\n",
              "             '101,41': 1,\n",
              "             '101,14': 1,\n",
              "             '102,41': 1,\n",
              "             '102,14': 1,\n",
              "             '103,41': 1,\n",
              "             '103,14': 1,\n",
              "             '104,41': 1,\n",
              "             '104,14': 1,\n",
              "             '105,41': 1,\n",
              "             '105,14': 1,\n",
              "             '106,41': 1,\n",
              "             '106,14': 1,\n",
              "             '107,41': 1,\n",
              "             '107,14': 1,\n",
              "             '108,41': 1,\n",
              "             '108,14': 1,\n",
              "             '109,41': 1,\n",
              "             '109,14': 1,\n",
              "             '110,41': 1,\n",
              "             '110,14': 1,\n",
              "             '111,41': 1,\n",
              "             '111,14': 1,\n",
              "             '112,41': 1,\n",
              "             '112,14': 1,\n",
              "             '113,41': 1,\n",
              "             '113,14': 1,\n",
              "             '114,41': 1,\n",
              "             '114,14': 1,\n",
              "             '115,41': 1,\n",
              "             '115,14': 1,\n",
              "             '116,41': 1,\n",
              "             '116,14': 1,\n",
              "             '117,41': 1,\n",
              "             '117,14': 1,\n",
              "             '118,41': 1,\n",
              "             '118,14': 1,\n",
              "             '119,41': 1,\n",
              "             '119,14': 1,\n",
              "             '120,41': 1,\n",
              "             '120,14': 1,\n",
              "             '121,41': 1,\n",
              "             '121,14': 1,\n",
              "             '122,41': 1,\n",
              "             '122,14': 1,\n",
              "             '123,41': 1,\n",
              "             '123,14': 1,\n",
              "             '124,41': 1,\n",
              "             '124,14': 1,\n",
              "             '125,41': 1,\n",
              "             '125,14': 1,\n",
              "             '126,41': 1,\n",
              "             '126,14': 1,\n",
              "             '127,41': 1,\n",
              "             '127,14': 1,\n",
              "             '128,41': 1,\n",
              "             '128,14': 1,\n",
              "             '129,41': 1,\n",
              "             '129,14': 1,\n",
              "             '130,41': 1,\n",
              "             '130,14': 1,\n",
              "             '131,41': 1,\n",
              "             '131,14': 1,\n",
              "             '132,41': 1,\n",
              "             '132,14': 1,\n",
              "             '133,41': 1,\n",
              "             '133,14': 1,\n",
              "             '134,41': 1,\n",
              "             '134,14': 1,\n",
              "             '135,41': 1,\n",
              "             '135,14': 1,\n",
              "             '136,41': 1,\n",
              "             '136,14': 1,\n",
              "             '137,41': 1,\n",
              "             '137,14': 1,\n",
              "             '138,41': 1,\n",
              "             '138,14': 1,\n",
              "             '139,41': 1,\n",
              "             '139,14': 1,\n",
              "             '140,41': 1,\n",
              "             '140,14': 1,\n",
              "             '141,41': 1,\n",
              "             '141,14': 1,\n",
              "             '142,41': 1,\n",
              "             '142,14': 1,\n",
              "             '143,41': 1,\n",
              "             '143,14': 1,\n",
              "             '144,41': 1,\n",
              "             '144,14': 1,\n",
              "             '145,41': 1,\n",
              "             '145,14': 1,\n",
              "             '146,41': 1,\n",
              "             '146,14': 1,\n",
              "             '147,41': 1,\n",
              "             '147,14': 1,\n",
              "             '148,41': 1,\n",
              "             '148,14': 1,\n",
              "             '149,41': 1,\n",
              "             '149,14': 1,\n",
              "             '150,41': 1,\n",
              "             '150,14': 1,\n",
              "             '151,41': 1,\n",
              "             '151,14': 1,\n",
              "             '152,41': 1,\n",
              "             '152,14': 1,\n",
              "             '153,41': 1,\n",
              "             '153,14': 1,\n",
              "             '154,41': 1,\n",
              "             '154,14': 1,\n",
              "             '155,41': 1,\n",
              "             '155,14': 1,\n",
              "             '156,41': 1,\n",
              "             '156,14': 1,\n",
              "             '157,41': 1,\n",
              "             '157,14': 1,\n",
              "             '158,41': 1,\n",
              "             '158,14': 1,\n",
              "             '159,41': 1,\n",
              "             '159,14': 1,\n",
              "             '160,41': 1,\n",
              "             '160,14': 1,\n",
              "             '161,41': 1,\n",
              "             '161,14': 1,\n",
              "             '162,41': 1,\n",
              "             '162,14': 1,\n",
              "             '163,41': 1,\n",
              "             '163,14': 1,\n",
              "             '164,41': 1,\n",
              "             '164,14': 1,\n",
              "             '165,41': 1,\n",
              "             '165,14': 1,\n",
              "             '166,41': 1,\n",
              "             '166,14': 1,\n",
              "             '167,41': 1,\n",
              "             '167,14': 1,\n",
              "             '168,41': 1,\n",
              "             '168,14': 1,\n",
              "             '169,41': 1,\n",
              "             '169,14': 1,\n",
              "             '170,41': 1,\n",
              "             '170,14': 1,\n",
              "             '171,41': 1,\n",
              "             '171,14': 1,\n",
              "             '172,41': 1,\n",
              "             '172,14': 1,\n",
              "             '173,41': 1,\n",
              "             '173,14': 1,\n",
              "             '174,41': 1,\n",
              "             '174,14': 1,\n",
              "             '175,41': 1,\n",
              "             '175,14': 1,\n",
              "             '176,41': 1,\n",
              "             '176,14': 1,\n",
              "             '177,41': 1,\n",
              "             '177,14': 1,\n",
              "             '178,41': 1,\n",
              "             '178,14': 1,\n",
              "             '179,41': 1,\n",
              "             '179,14': 1,\n",
              "             '180,41': 1,\n",
              "             '180,14': 1,\n",
              "             '181,41': 1,\n",
              "             '181,14': 1,\n",
              "             '182,41': 1,\n",
              "             '182,14': 1,\n",
              "             '183,41': 1,\n",
              "             '183,14': 1,\n",
              "             '184,41': 1,\n",
              "             '184,14': 1,\n",
              "             '185,41': 1,\n",
              "             '185,14': 1,\n",
              "             '186,41': 1,\n",
              "             '186,14': 1,\n",
              "             '187,41': 1,\n",
              "             '187,14': 1,\n",
              "             '188,41': 1,\n",
              "             '188,14': 1,\n",
              "             '189,41': 1,\n",
              "             '189,14': 1,\n",
              "             '190,41': 1,\n",
              "             '190,14': 1,\n",
              "             '191,41': 1,\n",
              "             '191,14': 1,\n",
              "             '192,41': 1,\n",
              "             '192,14': 1,\n",
              "             '193,41': 1,\n",
              "             '193,14': 1,\n",
              "             '194,41': 1,\n",
              "             '194,14': 1,\n",
              "             '195,41': 1,\n",
              "             '195,14': 1,\n",
              "             '196,41': 1,\n",
              "             '196,14': 1,\n",
              "             '197,41': 1,\n",
              "             '197,14': 1,\n",
              "             '198,41': 1,\n",
              "             '198,14': 1,\n",
              "             '199,41': 1,\n",
              "             '199,14': 1,\n",
              "             '200,41': 1,\n",
              "             '200,14': 1,\n",
              "             '201,41': 1,\n",
              "             '201,14': 1,\n",
              "             '202,41': 1,\n",
              "             '202,14': 1,\n",
              "             '203,41': 1,\n",
              "             '203,14': 1,\n",
              "             '204,41': 1,\n",
              "             '204,14': 1,\n",
              "             '205,41': 1,\n",
              "             '205,14': 1,\n",
              "             '206,41': 1,\n",
              "             '206,14': 1,\n",
              "             '207,41': 1,\n",
              "             '207,14': 1,\n",
              "             '208,41': 1,\n",
              "             '208,14': 1,\n",
              "             '209,41': 1,\n",
              "             '209,14': 1,\n",
              "             '210,41': 1,\n",
              "             '210,14': 1,\n",
              "             '211,41': 1,\n",
              "             '211,14': 1,\n",
              "             '212,41': 1,\n",
              "             '212,14': 1,\n",
              "             '213,41': 1,\n",
              "             '213,14': 1,\n",
              "             '214,41': 1,\n",
              "             '214,14': 1,\n",
              "             '215,41': 1,\n",
              "             '215,14': 1,\n",
              "             '216,41': 1,\n",
              "             '216,14': 1,\n",
              "             '217,41': 1,\n",
              "             '217,14': 1,\n",
              "             '218,41': 1,\n",
              "             '218,14': 1,\n",
              "             '219,41': 1,\n",
              "             '219,14': 1,\n",
              "             '220,41': 1,\n",
              "             '220,14': 1,\n",
              "             '221,41': 1,\n",
              "             '221,14': 1,\n",
              "             '222,41': 1,\n",
              "             '222,14': 1,\n",
              "             '223,41': 1,\n",
              "             '223,14': 1,\n",
              "             '224,41': 1,\n",
              "             '224,14': 1,\n",
              "             '225,41': 1,\n",
              "             '225,14': 1,\n",
              "             '226,41': 1,\n",
              "             '226,14': 1,\n",
              "             '227,41': 1,\n",
              "             '227,14': 1,\n",
              "             '228,41': 1,\n",
              "             '228,14': 1,\n",
              "             '229,41': 1,\n",
              "             '229,14': 1,\n",
              "             '230,41': 1,\n",
              "             '230,14': 1,\n",
              "             '231,41': 1,\n",
              "             '231,14': 1,\n",
              "             '232,41': 1,\n",
              "             '232,14': 1,\n",
              "             '233,41': 1,\n",
              "             '233,14': 1,\n",
              "             '234,41': 1,\n",
              "             '234,14': 1,\n",
              "             '235,41': 1,\n",
              "             '235,14': 1,\n",
              "             '236,41': 1,\n",
              "             '236,14': 1,\n",
              "             '237,41': 1,\n",
              "             '237,14': 1,\n",
              "             '238,41': 1,\n",
              "             '238,14': 1,\n",
              "             '239,41': 1,\n",
              "             '239,14': 1,\n",
              "             '240,41': 1,\n",
              "             '240,14': 1,\n",
              "             '241,41': 1,\n",
              "             '241,14': 1,\n",
              "             '242,41': 1,\n",
              "             '242,14': 1,\n",
              "             '243,41': 1,\n",
              "             '243,14': 1,\n",
              "             '244,41': 1,\n",
              "             '244,14': 1,\n",
              "             '245,41': 1,\n",
              "             '245,14': 1,\n",
              "             '246,41': 1,\n",
              "             '246,14': 1,\n",
              "             '247,41': 1,\n",
              "             '247,14': 1,\n",
              "             '248,41': 1,\n",
              "             '248,14': 1,\n",
              "             '249,41': 1,\n",
              "             '249,14': 1,\n",
              "             '250,41': 1,\n",
              "             '250,14': 1,\n",
              "             '251,41': 1,\n",
              "             '251,14': 1,\n",
              "             '252,41': 1,\n",
              "             '252,14': 1,\n",
              "             '253,41': 1,\n",
              "             '253,14': 1,\n",
              "             '254,41': 1,\n",
              "             '254,14': 1,\n",
              "             '255,41': 1,\n",
              "             '255,14': 1,\n",
              "             '256,41': 1,\n",
              "             '256,14': 1,\n",
              "             '257,41': 1,\n",
              "             '257,14': 1,\n",
              "             '258,41': 1,\n",
              "             '258,14': 1,\n",
              "             '259,41': 1,\n",
              "             '259,14': 1,\n",
              "             '260,41': 1,\n",
              "             '260,14': 1,\n",
              "             '261,41': 1,\n",
              "             '261,14': 1,\n",
              "             '262,41': 1,\n",
              "             '262,14': 1,\n",
              "             '263,41': 1,\n",
              "             '263,14': 1,\n",
              "             '264,41': 1,\n",
              "             '264,14': 1,\n",
              "             '265,41': 1,\n",
              "             '265,14': 1,\n",
              "             '266,41': 1,\n",
              "             '266,14': 1,\n",
              "             '267,41': 1,\n",
              "             '267,14': 1,\n",
              "             '268,41': 1,\n",
              "             '268,14': 1,\n",
              "             '269,41': 1,\n",
              "             '269,14': 1,\n",
              "             '270,41': 1,\n",
              "             '270,14': 1,\n",
              "             '271,41': 1,\n",
              "             '271,14': 1,\n",
              "             '272,41': 1,\n",
              "             '272,14': 1,\n",
              "             '273,41': 1,\n",
              "             '273,14': 1,\n",
              "             '274,41': 1,\n",
              "             '274,14': 1,\n",
              "             '275,41': 1,\n",
              "             '275,14': 1,\n",
              "             '276,41': 1,\n",
              "             '276,14': 1,\n",
              "             '277,41': 1,\n",
              "             '277,14': 1,\n",
              "             '278,41': 1,\n",
              "             '278,14': 1,\n",
              "             '279,41': 1,\n",
              "             '279,14': 1,\n",
              "             '280,41': 1,\n",
              "             '280,14': 1,\n",
              "             '281,41': 1,\n",
              "             '281,14': 1,\n",
              "             '282,41': 1,\n",
              "             '282,14': 1,\n",
              "             '283,41': 1,\n",
              "             '283,14': 1,\n",
              "             '284,41': 1,\n",
              "             '284,14': 1,\n",
              "             '285,41': 1,\n",
              "             '285,14': 1,\n",
              "             '286,41': 1,\n",
              "             '286,14': 1,\n",
              "             '287,41': 1,\n",
              "             '287,14': 1,\n",
              "             '288,41': 1,\n",
              "             '288,14': 1,\n",
              "             '289,41': 1,\n",
              "             '289,14': 1,\n",
              "             '290,41': 1,\n",
              "             '290,14': 1,\n",
              "             '291,41': 1,\n",
              "             '291,14': 1,\n",
              "             '292,41': 1,\n",
              "             '292,14': 1,\n",
              "             '293,41': 1,\n",
              "             '293,14': 1,\n",
              "             '294,41': 1,\n",
              "             '294,14': 1,\n",
              "             '295,41': 1,\n",
              "             '295,14': 1,\n",
              "             '296,41': 1,\n",
              "             '296,14': 1,\n",
              "             '297,41': 1,\n",
              "             '297,14': 1,\n",
              "             '298,41': 1,\n",
              "             '298,14': 1,\n",
              "             '299,41': 1,\n",
              "             '299,14': 1,\n",
              "             '300,41': 1,\n",
              "             '300,14': 1,\n",
              "             '301,41': 1,\n",
              "             '301,14': 1,\n",
              "             '302,41': 1,\n",
              "             '302,14': 1,\n",
              "             '303,41': 1,\n",
              "             '303,14': 1,\n",
              "             '304,41': 1,\n",
              "             '304,14': 1,\n",
              "             '305,41': 1,\n",
              "             '305,14': 1,\n",
              "             '306,41': 1,\n",
              "             '306,14': 1,\n",
              "             '307,41': 1,\n",
              "             '307,14': 1,\n",
              "             '308,41': 1,\n",
              "             '308,14': 1,\n",
              "             '309,41': 1,\n",
              "             '309,14': 1,\n",
              "             '310,41': 1,\n",
              "             '310,14': 1,\n",
              "             '311,41': 1,\n",
              "             '311,14': 1,\n",
              "             '312,41': 1,\n",
              "             '312,14': 1,\n",
              "             '313,41': 1,\n",
              "             '313,14': 1,\n",
              "             '314,41': 1,\n",
              "             '314,14': 1,\n",
              "             '315,41': 1,\n",
              "             '315,14': 1,\n",
              "             '316,41': 1,\n",
              "             '316,14': 1,\n",
              "             '317,41': 1,\n",
              "             '317,14': 1,\n",
              "             '318,41': 1,\n",
              "             '318,14': 1,\n",
              "             '319,41': 1,\n",
              "             '319,14': 1,\n",
              "             '320,41': 1,\n",
              "             '320,14': 1,\n",
              "             '321,41': 1,\n",
              "             '321,14': 1,\n",
              "             '322,41': 1,\n",
              "             '322,14': 1,\n",
              "             '323,41': 1,\n",
              "             '323,14': 1,\n",
              "             '324,41': 1,\n",
              "             '324,14': 1,\n",
              "             '325,41': 1,\n",
              "             '325,14': 1,\n",
              "             '326,41': 1,\n",
              "             '326,14': 1,\n",
              "             '327,41': 1,\n",
              "             '327,14': 1,\n",
              "             '328,41': 1,\n",
              "             '328,14': 1,\n",
              "             '329,41': 1,\n",
              "             '329,14': 1,\n",
              "             '330,41': 1,\n",
              "             '330,14': 1,\n",
              "             '331,41': 1,\n",
              "             '331,14': 1,\n",
              "             '332,41': 1,\n",
              "             '332,14': 1,\n",
              "             '333,41': 1,\n",
              "             '333,14': 1,\n",
              "             '334,41': 1,\n",
              "             '334,14': 1,\n",
              "             '335,41': 1,\n",
              "             '335,14': 1,\n",
              "             '336,41': 1,\n",
              "             '336,14': 1,\n",
              "             '337,41': 1,\n",
              "             '337,14': 1,\n",
              "             '338,41': 1,\n",
              "             '338,14': 1,\n",
              "             '339,41': 1,\n",
              "             '339,14': 1,\n",
              "             '340,41': 1,\n",
              "             '340,14': 1,\n",
              "             '341,41': 1,\n",
              "             '341,14': 1,\n",
              "             '342,41': 1,\n",
              "             '342,14': 1,\n",
              "             '343,41': 1,\n",
              "             '343,14': 1,\n",
              "             '344,41': 1,\n",
              "             '344,14': 1,\n",
              "             '345,41': 1,\n",
              "             '345,14': 1,\n",
              "             '346,41': 1,\n",
              "             '346,14': 1,\n",
              "             '347,41': 1,\n",
              "             '347,14': 1,\n",
              "             '348,41': 1,\n",
              "             '348,14': 1,\n",
              "             '349,41': 1,\n",
              "             '349,14': 1,\n",
              "             '350,41': 1,\n",
              "             '350,14': 1,\n",
              "             '351,41': 1,\n",
              "             '351,14': 1,\n",
              "             '352,41': 1,\n",
              "             '352,14': 1,\n",
              "             '353,41': 1,\n",
              "             '353,14': 1,\n",
              "             '354,41': 1,\n",
              "             '354,14': 1,\n",
              "             '355,41': 1,\n",
              "             '355,14': 1,\n",
              "             '356,41': 1,\n",
              "             '356,14': 1,\n",
              "             '357,41': 1,\n",
              "             '357,14': 1,\n",
              "             '358,41': 1,\n",
              "             '358,14': 1,\n",
              "             '359,41': 1,\n",
              "             '359,14': 1,\n",
              "             '360,41': 1,\n",
              "             '360,14': 1,\n",
              "             '361,41': 1,\n",
              "             '361,14': 1,\n",
              "             '362,41': 1,\n",
              "             '362,14': 1,\n",
              "             '363,41': 1,\n",
              "             '363,14': 1,\n",
              "             '364,41': 1,\n",
              "             '364,14': 1,\n",
              "             '365,41': 1,\n",
              "             '365,14': 1,\n",
              "             '366,41': 1,\n",
              "             '366,14': 1,\n",
              "             '367,41': 1,\n",
              "             '367,14': 1,\n",
              "             '368,41': 1,\n",
              "             '368,14': 1,\n",
              "             '369,41': 1,\n",
              "             '369,14': 1,\n",
              "             '370,41': 1,\n",
              "             '370,14': 1,\n",
              "             '371,41': 1,\n",
              "             '371,14': 1,\n",
              "             '372,41': 1,\n",
              "             '372,14': 1,\n",
              "             '373,41': 1,\n",
              "             '373,14': 1,\n",
              "             '374,41': 1,\n",
              "             '374,14': 1,\n",
              "             '375,41': 1,\n",
              "             '375,14': 1,\n",
              "             '376,41': 1,\n",
              "             '376,14': 1,\n",
              "             '377,41': 1,\n",
              "             '377,14': 1,\n",
              "             '378,41': 1,\n",
              "             '378,14': 1,\n",
              "             '379,41': 1,\n",
              "             '379,14': 1,\n",
              "             '380,41': 1,\n",
              "             '380,14': 1,\n",
              "             '381,41': 1,\n",
              "             '381,14': 1,\n",
              "             '382,41': 1,\n",
              "             '382,14': 1,\n",
              "             '383,41': 1,\n",
              "             '383,14': 1,\n",
              "             '384,41': 1,\n",
              "             '384,14': 1,\n",
              "             '385,41': 1,\n",
              "             '385,14': 1,\n",
              "             '386,41': 1,\n",
              "             '386,14': 1,\n",
              "             '387,41': 1,\n",
              "             '387,14': 1,\n",
              "             '388,41': 1,\n",
              "             '388,14': 1,\n",
              "             '389,41': 1,\n",
              "             '389,14': 1,\n",
              "             '390,41': 1,\n",
              "             '390,14': 1,\n",
              "             '391,41': 1,\n",
              "             '391,14': 1,\n",
              "             '392,41': 1,\n",
              "             '392,14': 1,\n",
              "             '393,41': 1,\n",
              "             '393,14': 1,\n",
              "             '394,41': 1,\n",
              "             '394,14': 1,\n",
              "             '395,41': 1,\n",
              "             '395,14': 1,\n",
              "             '396,41': 1,\n",
              "             '396,14': 1,\n",
              "             '397,41': 1,\n",
              "             '397,14': 1,\n",
              "             '398,41': 1,\n",
              "             '398,14': 1,\n",
              "             '399,41': 1,\n",
              "             '399,14': 1,\n",
              "             '400,41': 1,\n",
              "             '400,14': 1,\n",
              "             '401,41': 1,\n",
              "             '401,14': 1,\n",
              "             '402,41': 1,\n",
              "             '402,14': 1,\n",
              "             '403,41': 1,\n",
              "             '403,14': 1,\n",
              "             '404,41': 1,\n",
              "             '404,14': 1,\n",
              "             '405,41': 1,\n",
              "             '405,14': 1,\n",
              "             '406,41': 1,\n",
              "             '406,14': 1,\n",
              "             '407,41': 1,\n",
              "             '407,14': 1,\n",
              "             '408,41': 1,\n",
              "             '408,14': 1,\n",
              "             '409,41': 1,\n",
              "             '409,14': 1,\n",
              "             '410,41': 1,\n",
              "             '410,14': 1,\n",
              "             '411,41': 1,\n",
              "             '411,14': 1,\n",
              "             '412,41': 1,\n",
              "             '412,14': 1,\n",
              "             '413,41': 1,\n",
              "             '413,14': 1,\n",
              "             '414,41': 1,\n",
              "             '414,14': 1,\n",
              "             '415,41': 1,\n",
              "             '415,14': 1,\n",
              "             '416,41': 1,\n",
              "             '416,14': 1,\n",
              "             '417,41': 1,\n",
              "             '417,14': 1,\n",
              "             '418,41': 1,\n",
              "             '418,14': 1,\n",
              "             '419,41': 1,\n",
              "             '419,14': 1,\n",
              "             '420,41': 1,\n",
              "             '420,14': 1,\n",
              "             '421,41': 1,\n",
              "             '421,14': 1,\n",
              "             '422,41': 1,\n",
              "             '422,14': 1,\n",
              "             '423,41': 1,\n",
              "             '423,14': 1,\n",
              "             '424,41': 1,\n",
              "             '424,14': 1,\n",
              "             '425,41': 1,\n",
              "             '425,14': 1,\n",
              "             '426,41': 1,\n",
              "             '426,14': 1,\n",
              "             '427,41': 1,\n",
              "             '427,14': 1,\n",
              "             '428,41': 1,\n",
              "             '428,14': 1,\n",
              "             '429,41': 1,\n",
              "             '429,14': 1,\n",
              "             '430,41': 1,\n",
              "             '430,14': 1,\n",
              "             '431,41': 1,\n",
              "             '431,14': 1,\n",
              "             '432,41': 1,\n",
              "             '432,14': 1,\n",
              "             '433,41': 1,\n",
              "             '433,14': 1,\n",
              "             '434,41': 1,\n",
              "             '434,14': 1,\n",
              "             '435,41': 1,\n",
              "             '435,14': 1,\n",
              "             '436,41': 1,\n",
              "             '436,14': 1,\n",
              "             '437,41': 1,\n",
              "             '437,14': 1,\n",
              "             '438,41': 1,\n",
              "             '438,14': 1,\n",
              "             '439,41': 1,\n",
              "             '439,14': 1,\n",
              "             '440,41': 1,\n",
              "             '440,14': 1,\n",
              "             '441,41': 1,\n",
              "             '441,14': 1,\n",
              "             '442,41': 1,\n",
              "             '442,14': 1,\n",
              "             '443,41': 1,\n",
              "             '443,14': 1,\n",
              "             '444,41': 1,\n",
              "             '444,14': 1,\n",
              "             '445,41': 1,\n",
              "             '445,14': 1,\n",
              "             '446,41': 1,\n",
              "             '446,14': 1,\n",
              "             '447,41': 1,\n",
              "             '447,14': 1,\n",
              "             '448,41': 1,\n",
              "             '448,14': 1,\n",
              "             '449,41': 1,\n",
              "             '449,14': 1,\n",
              "             '450,41': 1,\n",
              "             '450,14': 1,\n",
              "             '451,41': 1,\n",
              "             '451,14': 1,\n",
              "             '452,41': 1,\n",
              "             '452,14': 1,\n",
              "             '453,41': 1,\n",
              "             '453,14': 1,\n",
              "             '454,41': 1,\n",
              "             '454,14': 1,\n",
              "             '455,41': 1,\n",
              "             '455,14': 1,\n",
              "             '456,41': 1,\n",
              "             '456,14': 1,\n",
              "             '457,41': 1,\n",
              "             '457,14': 1,\n",
              "             '458,41': 1,\n",
              "             '458,14': 1,\n",
              "             '459,41': 1,\n",
              "             '459,14': 1,\n",
              "             '460,41': 1,\n",
              "             '460,14': 1,\n",
              "             '461,41': 1,\n",
              "             '461,14': 1,\n",
              "             '462,41': 1,\n",
              "             '462,14': 1,\n",
              "             '463,41': 1,\n",
              "             '463,14': 1,\n",
              "             '464,41': 1,\n",
              "             '464,14': 1,\n",
              "             '465,41': 1,\n",
              "             '465,14': 1,\n",
              "             '466,41': 1,\n",
              "             '466,14': 1,\n",
              "             '467,41': 1,\n",
              "             '467,14': 1,\n",
              "             '468,41': 1,\n",
              "             '468,14': 1,\n",
              "             '469,41': 1,\n",
              "             '469,14': 1,\n",
              "             '470,41': 1,\n",
              "             '470,14': 1,\n",
              "             '471,41': 1,\n",
              "             '471,14': 1,\n",
              "             '472,41': 1,\n",
              "             '472,14': 1,\n",
              "             '473,41': 1,\n",
              "             '473,14': 1,\n",
              "             '474,41': 1,\n",
              "             '474,14': 1,\n",
              "             '475,41': 1,\n",
              "             '475,14': 1,\n",
              "             '476,41': 1,\n",
              "             '476,14': 1,\n",
              "             '477,41': 1,\n",
              "             '477,14': 1,\n",
              "             '478,41': 1,\n",
              "             '478,14': 1,\n",
              "             '479,41': 1,\n",
              "             '479,14': 1,\n",
              "             '480,41': 1,\n",
              "             '480,14': 1,\n",
              "             '481,41': 1,\n",
              "             '481,14': 1,\n",
              "             '482,41': 1,\n",
              "             '482,14': 1,\n",
              "             '483,41': 1,\n",
              "             '483,14': 1,\n",
              "             '484,41': 1,\n",
              "             '484,14': 1,\n",
              "             '485,41': 1,\n",
              "             '485,14': 1,\n",
              "             '486,41': 1,\n",
              "             '486,14': 1,\n",
              "             '487,41': 1,\n",
              "             '487,14': 1,\n",
              "             '488,41': 1,\n",
              "             '488,14': 1,\n",
              "             '489,41': 1,\n",
              "             '489,14': 1,\n",
              "             '490,41': 1,\n",
              "             '490,14': 1,\n",
              "             '491,41': 1,\n",
              "             '491,14': 1,\n",
              "             '492,41': 1,\n",
              "             '492,14': 1,\n",
              "             '493,41': 1,\n",
              "             '493,14': 1,\n",
              "             '494,41': 1,\n",
              "             '494,14': 1,\n",
              "             '495,41': 1,\n",
              "             '495,14': 1,\n",
              "             '496,41': 1,\n",
              "             '496,14': 1,\n",
              "             '497,41': 1,\n",
              "             '497,14': 1,\n",
              "             '498,41': 1,\n",
              "             '498,14': 1,\n",
              "             '499,41': 1,\n",
              "             '499,14': 1,\n",
              "             ...})"
            ]
          },
          "metadata": {},
          "execution_count": 42
        }
      ],
      "source": [
        "doc_word_freq"
      ],
      "id": "zyr3pG3am4nj"
    },
    {
      "cell_type": "code",
      "execution_count": 43,
      "metadata": {
        "id": "0918d102"
      },
      "outputs": [],
      "source": [
        "# Word-Doc node train weights\n",
        "for i, doc_words in enumerate(shuffled_document):\n",
        "    words = doc_words.split()\n",
        "    doc_word_set = set()\n",
        "    for word in words:\n",
        "        if word in doc_word_set:\n",
        "            continue\n",
        "        j = word_id_map[word]\n",
        "\n",
        "        key = str(i) + ',' + str(j)\n",
        "        freq = doc_word_freq[key]\n",
        "        if i < train_size + val_size:\n",
        "            row.append(i)\n",
        "        else:\n",
        "            row.append(i + vocab_size)\n",
        "        col.append(train_size+val_size+ j)\n",
        "        idf = np.log(1.0 * len(shuffled_document) / word_doc_freq[vocab[j]])\n",
        "        weight.append(freq * idf)\n",
        "        doc_word_set.add(word)"
      ],
      "id": "0918d102"
    },
    {
      "cell_type": "code",
      "execution_count": 44,
      "metadata": {
        "colab": {
          "base_uri": "https://localhost:8080/"
        },
        "id": "-W4xnmRhp8TD",
        "outputId": "ca4684a0-1184-45b2-8d49-f5e9bc9b3556"
      },
      "outputs": [
        {
          "output_type": "stream",
          "name": "stdout",
          "text": [
            "2307\n",
            "2307\n",
            "2307\n"
          ]
        }
      ],
      "source": [
        "print(len(row))\n",
        "print(len(col))\n",
        "print(len(weight))"
      ],
      "id": "-W4xnmRhp8TD"
    },
    {
      "cell_type": "code",
      "execution_count": 45,
      "metadata": {
        "colab": {
          "base_uri": "https://localhost:8080/"
        },
        "id": "fQ1kwDq3n1T1",
        "outputId": "2de4a11d-f27c-4c2f-c967-9b2d8a75aeed"
      },
      "outputs": [
        {
          "output_type": "stream",
          "name": "stdout",
          "text": [
            "2307 2307 2307 776 777\n"
          ]
        }
      ],
      "source": [
        "node_size = train_size + val_size + vocab_size + test_size\n",
        "adj = sp.csr_matrix((weight, (row, col)), shape=(node_size, node_size))\n",
        "#  Ensures that the adjacency matrix is symmetric\n",
        "adj = adj + adj.T.multiply(adj.T > adj) - adj.multiply(adj.T > adj)\n",
        "print(len(row),len(col), len(weight), max(row), node_size)"
      ],
      "id": "fQ1kwDq3n1T1"
    },
    {
      "cell_type": "markdown",
      "metadata": {
        "id": "f9e90c71"
      },
      "source": [
        "## Train on Graph Convolution Network (GCN)"
      ],
      "id": "f9e90c71"
    },
    {
      "cell_type": "code",
      "execution_count": 46,
      "metadata": {
        "id": "a405856f"
      },
      "outputs": [],
      "source": [
        "def normalize(mx):\n",
        "    \"\"\"Row-normalize sparse matrix\"\"\"\n",
        "    rowsum = np.array(mx.sum(1))\n",
        "    r_inv = np.power(rowsum, -1).flatten()\n",
        "    r_inv[np.isinf(r_inv)] = 0.\n",
        "    r_mat_inv = sp.diags(r_inv)\n",
        "    mx = r_mat_inv.dot(mx)\n",
        "    return mx\n",
        "\n",
        "def sparse_mx_to_torch_sparse_tensor(sparse_mx):\n",
        "    \"\"\"Convert a scipy sparse matrix to a torch sparse tensor.\"\"\"\n",
        "    sparse_mx = sparse_mx.tocoo().astype(np.float32)\n",
        "    indices = torch.from_numpy(\n",
        "        np.vstack((sparse_mx.row, sparse_mx.col)).astype(np.int64))\n",
        "    values = torch.from_numpy(sparse_mx.data)\n",
        "    shape = torch.Size(sparse_mx.shape)\n",
        "    return torch.sparse.FloatTensor(indices, values, shape)\n",
        "    \n",
        "def accuracy(output, labels):\n",
        "    preds = output.max(1)[1].type_as(labels)\n",
        "    correct = preds.eq(labels).double()\n",
        "    correct = correct.sum()\n",
        "    return correct / len(labels)"
      ],
      "id": "a405856f"
    },
    {
      "cell_type": "code",
      "execution_count": 47,
      "metadata": {
        "id": "2a5169e3"
      },
      "outputs": [],
      "source": [
        "labels = y + ty\n",
        "features_merge = np.vstack([X, tx]).astype('float32')\n",
        "# feature sparse csr\n",
        "features = sp.csr_matrix(features_merge, dtype=np.float32)\n",
        "# adjancy sparce csr (weight in what row and column)\n",
        "adj = sp.csr_matrix((weight, (row, col)), shape=(node_size, node_size))\n",
        "# build symmetric adjacency matrix\n",
        "adj = adj + adj.T.multiply(adj.T > adj) - adj.multiply(adj.T > adj)\n",
        "# normalize featrue matrix\n",
        "features = normalize(features)\n",
        "# add identity matrix and then normalize it\n",
        "adj = normalize(adj + sp.eye(adj.shape[0]))"
      ],
      "id": "2a5169e3"
    },
    {
      "cell_type": "code",
      "execution_count": 48,
      "metadata": {
        "id": "4e9d3f74"
      },
      "outputs": [],
      "source": [
        "perm = np.arange(0, node_size)\n",
        "idx_train = perm[:train_size]\n",
        "idx_val = perm[train_size:train_size + val_size]\n",
        "idx_test= perm[train_size + val_size + vocab_size : ]"
      ],
      "id": "4e9d3f74"
    },
    {
      "cell_type": "code",
      "execution_count": 49,
      "metadata": {
        "id": "b31d8432"
      },
      "outputs": [],
      "source": [
        "features = torch.FloatTensor(np.array(features.todense()))\n",
        "labels = torch.LongTensor(labels)\n",
        "adj = sparse_mx_to_torch_sparse_tensor(adj)\n",
        "idx_train = torch.LongTensor(idx_train)\n",
        "idx_val = torch.LongTensor(idx_val)\n",
        "idx_test = torch.LongTensor(idx_test)"
      ],
      "id": "b31d8432"
    },
    {
      "cell_type": "code",
      "execution_count": 50,
      "metadata": {
        "id": "e3f6df9b"
      },
      "outputs": [],
      "source": [
        "class GraphConvolution(Module):\n",
        "\n",
        "    def __init__(self, in_features, out_features, bias=True):\n",
        "        super(GraphConvolution, self).__init__()\n",
        "        self.in_features = in_features\n",
        "        self.out_features = out_features\n",
        "        self.weight = Parameter(torch.FloatTensor(in_features, out_features))\n",
        "        if bias:\n",
        "            self.bias = Parameter(torch.FloatTensor(out_features))\n",
        "        else:\n",
        "            self.register_parameter('bias', None)\n",
        "        self.reset_parameters()\n",
        "    # initialized the weight and bias with values drawn from a uniform distribution\n",
        "    def reset_parameters(self):\n",
        "        stdv = 1. / math.sqrt(self.weight.size(1))\n",
        "        self.weight.data.uniform_(-stdv, stdv)\n",
        "        if self.bias is not None:\n",
        "            self.bias.data.uniform_(-stdv, stdv)\n",
        "    # input (matrix of node features)\n",
        "    # adj (adjacecny matrix)\n",
        "    def forward(self, input, adj):\n",
        "        support = torch.mm(input, self.weight)\n",
        "        output = torch.spmm(adj, support)\n",
        "        if self.bias is not None:\n",
        "            return output + self.bias\n",
        "        else:\n",
        "            return output\n",
        "    # shape of input feature\n",
        "    # shape of output feature\n",
        "    def __repr__(self):\n",
        "        return self.__class__.__name__ + ' (' \\\n",
        "               + str(self.in_features) + ' -> ' \\\n",
        "               + str(self.out_features) + ')'"
      ],
      "id": "e3f6df9b"
    },
    {
      "cell_type": "code",
      "execution_count": 51,
      "metadata": {
        "id": "13f69302"
      },
      "outputs": [],
      "source": [
        "class GCN(nn.Module):\n",
        "    def __init__(self, nfeat, nhid, nclass, dropout):\n",
        "        super(GCN, self).__init__()\n",
        "\n",
        "        self.gc1 = GraphConvolution(nfeat, nhid)\n",
        "        self.gc2 = GraphConvolution(nhid, nclass)\n",
        "        self.dropout = dropout\n",
        "\n",
        "    def forward(self, x, adj):\n",
        "        x = F.relu(self.gc1(x, adj))\n",
        "        x = F.dropout(x, self.dropout, training=self.training)\n",
        "        x = self.gc2(x, adj)\n",
        "        return F.log_softmax(x, dim=1)"
      ],
      "id": "13f69302"
    },
    {
      "cell_type": "code",
      "source": [
        "lr = 0.01\n",
        "weight_decay = 5e-4\n",
        "dropout = 0.5\n",
        "hidden_size =16\n",
        "fastmode = False\n",
        "epochs = 200"
      ],
      "metadata": {
        "id": "wjq8gona6KPK"
      },
      "id": "wjq8gona6KPK",
      "execution_count": 52,
      "outputs": []
    },
    {
      "cell_type": "code",
      "execution_count": 53,
      "metadata": {
        "id": "f677d64c"
      },
      "outputs": [],
      "source": [
        "# Model and optimizer\n",
        "model = GCN(nfeat=features.shape[1],\n",
        "            nhid=hidden_size,\n",
        "            nclass=labels.max().item() + 1,\n",
        "            dropout=dropout)\n",
        "optimizer = optim.Adam(model.parameters(),\n",
        "                       lr=lr, weight_decay=weight_decay)"
      ],
      "id": "f677d64c"
    },
    {
      "cell_type": "code",
      "execution_count": 54,
      "metadata": {
        "id": "be382f0a"
      },
      "outputs": [],
      "source": [
        "fastmode = False\n",
        "def train(epoch):\n",
        "    model.train()\n",
        "    optimizer.zero_grad()\n",
        "    output = model(features, adj)\n",
        "    loss_train = F.nll_loss(output[idx_train], labels[idx_train])\n",
        "    acc_train = accuracy(output[idx_train], labels[idx_train])\n",
        "    loss_train.backward()\n",
        "    optimizer.step()\n",
        "\n",
        "    if not fastmode:\n",
        "        # Evaluate validation set performance separately,\n",
        "        # deactivates dropout during validation run.\n",
        "        model.eval()\n",
        "        output = model(features, adj)\n",
        "    loss_val = F.nll_loss(output[idx_val], labels[idx_val])\n",
        "    acc_val = accuracy(output[idx_val], labels[idx_val])\n",
        "    print('Epoch: {:04d}'.format(epoch+1),\n",
        "          'loss_train: {:.4f}'.format(loss_train.item()),\n",
        "          'acc_train: {:.4f}'.format(acc_train.item()),\n",
        "          'loss_val: {:.4f}'.format(loss_val.item()),\n",
        "          'acc_val: {:.4f}'.format(acc_val.item()))\n"
      ],
      "id": "be382f0a"
    },
    {
      "cell_type": "code",
      "source": [
        "epochs"
      ],
      "metadata": {
        "colab": {
          "base_uri": "https://localhost:8080/"
        },
        "id": "gLI73sR68GfW",
        "outputId": "e837c273-8d71-463f-91e0-e724a45c71cf"
      },
      "id": "gLI73sR68GfW",
      "execution_count": 55,
      "outputs": [
        {
          "output_type": "execute_result",
          "data": {
            "text/plain": [
              "200"
            ]
          },
          "metadata": {},
          "execution_count": 55
        }
      ]
    },
    {
      "cell_type": "code",
      "source": [],
      "metadata": {
        "id": "LiBzo56F8GVt"
      },
      "id": "LiBzo56F8GVt",
      "execution_count": 55,
      "outputs": []
    },
    {
      "cell_type": "code",
      "execution_count": 56,
      "metadata": {
        "id": "29547426",
        "colab": {
          "base_uri": "https://localhost:8080/"
        },
        "outputId": "302edab9-4233-4cf5-909d-d5c813404097"
      },
      "outputs": [
        {
          "output_type": "stream",
          "name": "stdout",
          "text": [
            "Epoch: 0001 loss_train: 1.4716 acc_train: 0.1565 loss_val: 1.4057 acc_val: 0.0833\n",
            "Epoch: 0002 loss_train: 1.4045 acc_train: 0.1971 loss_val: 1.3741 acc_val: 0.1250\n",
            "Epoch: 0003 loss_train: 1.4125 acc_train: 0.2762 loss_val: 1.3425 acc_val: 0.5000\n",
            "Epoch: 0004 loss_train: 1.3326 acc_train: 0.3333 loss_val: 1.3126 acc_val: 0.6944\n",
            "Epoch: 0005 loss_train: 1.3201 acc_train: 0.4401 loss_val: 1.2832 acc_val: 0.7083\n",
            "Epoch: 0006 loss_train: 1.2903 acc_train: 0.5009 loss_val: 1.2547 acc_val: 0.6806\n",
            "Epoch: 0007 loss_train: 1.3107 acc_train: 0.5488 loss_val: 1.2277 acc_val: 0.6806\n",
            "Epoch: 0008 loss_train: 1.2178 acc_train: 0.5948 loss_val: 1.2015 acc_val: 0.6528\n",
            "Epoch: 0009 loss_train: 1.2534 acc_train: 0.5672 loss_val: 1.1751 acc_val: 0.6528\n",
            "Epoch: 0010 loss_train: 1.2221 acc_train: 0.5709 loss_val: 1.1485 acc_val: 0.6528\n",
            "Epoch: 0011 loss_train: 1.2008 acc_train: 0.5930 loss_val: 1.1218 acc_val: 0.6528\n",
            "Epoch: 0012 loss_train: 1.1580 acc_train: 0.5893 loss_val: 1.0951 acc_val: 0.6528\n",
            "Epoch: 0013 loss_train: 1.1421 acc_train: 0.5746 loss_val: 1.0682 acc_val: 0.6806\n",
            "Epoch: 0014 loss_train: 1.1431 acc_train: 0.5948 loss_val: 1.0411 acc_val: 0.6806\n",
            "Epoch: 0015 loss_train: 1.1024 acc_train: 0.6188 loss_val: 1.0136 acc_val: 0.7083\n",
            "Epoch: 0016 loss_train: 1.0611 acc_train: 0.6998 loss_val: 0.9859 acc_val: 0.7083\n",
            "Epoch: 0017 loss_train: 1.0755 acc_train: 0.5912 loss_val: 0.9579 acc_val: 0.7083\n",
            "Epoch: 0018 loss_train: 1.0412 acc_train: 0.6262 loss_val: 0.9303 acc_val: 0.7222\n",
            "Epoch: 0019 loss_train: 1.0135 acc_train: 0.6409 loss_val: 0.9030 acc_val: 0.7361\n",
            "Epoch: 0020 loss_train: 0.9799 acc_train: 0.6556 loss_val: 0.8763 acc_val: 0.7778\n",
            "Epoch: 0021 loss_train: 0.9816 acc_train: 0.6464 loss_val: 0.8499 acc_val: 0.7917\n",
            "Epoch: 0022 loss_train: 0.9646 acc_train: 0.6390 loss_val: 0.8235 acc_val: 0.7917\n",
            "Epoch: 0023 loss_train: 0.8891 acc_train: 0.6998 loss_val: 0.7973 acc_val: 0.7917\n",
            "Epoch: 0024 loss_train: 0.8529 acc_train: 0.7293 loss_val: 0.7711 acc_val: 0.7917\n",
            "Epoch: 0025 loss_train: 0.8854 acc_train: 0.7219 loss_val: 0.7452 acc_val: 0.7917\n",
            "Epoch: 0026 loss_train: 0.8986 acc_train: 0.6556 loss_val: 0.7203 acc_val: 0.7917\n",
            "Epoch: 0027 loss_train: 0.8029 acc_train: 0.7827 loss_val: 0.6956 acc_val: 0.8194\n",
            "Epoch: 0028 loss_train: 0.8033 acc_train: 0.7532 loss_val: 0.6716 acc_val: 0.8194\n",
            "Epoch: 0029 loss_train: 0.7692 acc_train: 0.7330 loss_val: 0.6482 acc_val: 0.8194\n",
            "Epoch: 0030 loss_train: 0.7642 acc_train: 0.7164 loss_val: 0.6252 acc_val: 0.8194\n",
            "Epoch: 0031 loss_train: 0.8045 acc_train: 0.6888 loss_val: 0.6024 acc_val: 0.8194\n",
            "Epoch: 0032 loss_train: 0.6829 acc_train: 0.8066 loss_val: 0.5801 acc_val: 0.8194\n",
            "Epoch: 0033 loss_train: 0.7226 acc_train: 0.7772 loss_val: 0.5586 acc_val: 0.8472\n",
            "Epoch: 0034 loss_train: 0.7393 acc_train: 0.6832 loss_val: 0.5379 acc_val: 0.8750\n",
            "Epoch: 0035 loss_train: 0.6573 acc_train: 0.8158 loss_val: 0.5174 acc_val: 0.8750\n",
            "Epoch: 0036 loss_train: 0.6469 acc_train: 0.8214 loss_val: 0.4976 acc_val: 0.8750\n",
            "Epoch: 0037 loss_train: 0.6092 acc_train: 0.8343 loss_val: 0.4783 acc_val: 0.8750\n",
            "Epoch: 0038 loss_train: 0.6302 acc_train: 0.7753 loss_val: 0.4597 acc_val: 0.8750\n",
            "Epoch: 0039 loss_train: 0.6184 acc_train: 0.7495 loss_val: 0.4417 acc_val: 0.8750\n",
            "Epoch: 0040 loss_train: 0.6012 acc_train: 0.8066 loss_val: 0.4244 acc_val: 0.8750\n",
            "Epoch: 0041 loss_train: 0.4754 acc_train: 0.9098 loss_val: 0.4074 acc_val: 0.8750\n",
            "Epoch: 0042 loss_train: 0.5916 acc_train: 0.8158 loss_val: 0.3910 acc_val: 0.8889\n",
            "Epoch: 0043 loss_train: 0.5606 acc_train: 0.8066 loss_val: 0.3752 acc_val: 1.0000\n",
            "Epoch: 0044 loss_train: 0.5156 acc_train: 0.8471 loss_val: 0.3599 acc_val: 1.0000\n",
            "Epoch: 0045 loss_train: 0.5135 acc_train: 0.8453 loss_val: 0.3450 acc_val: 1.0000\n",
            "Epoch: 0046 loss_train: 0.4766 acc_train: 0.8913 loss_val: 0.3304 acc_val: 1.0000\n",
            "Epoch: 0047 loss_train: 0.4317 acc_train: 0.9153 loss_val: 0.3165 acc_val: 1.0000\n",
            "Epoch: 0048 loss_train: 0.4314 acc_train: 0.9042 loss_val: 0.3031 acc_val: 1.0000\n",
            "Epoch: 0049 loss_train: 0.4844 acc_train: 0.8637 loss_val: 0.2904 acc_val: 0.9861\n",
            "Epoch: 0050 loss_train: 0.3956 acc_train: 0.9282 loss_val: 0.2782 acc_val: 0.9861\n",
            "Epoch: 0051 loss_train: 0.4356 acc_train: 0.8527 loss_val: 0.2667 acc_val: 0.9861\n",
            "Epoch: 0052 loss_train: 0.4877 acc_train: 0.8656 loss_val: 0.2557 acc_val: 0.9861\n",
            "Epoch: 0053 loss_train: 0.4030 acc_train: 0.8692 loss_val: 0.2452 acc_val: 0.9722\n",
            "Epoch: 0054 loss_train: 0.3683 acc_train: 0.9006 loss_val: 0.2352 acc_val: 0.9722\n",
            "Epoch: 0055 loss_train: 0.4014 acc_train: 0.8932 loss_val: 0.2257 acc_val: 0.9722\n",
            "Epoch: 0056 loss_train: 0.3764 acc_train: 0.9171 loss_val: 0.2170 acc_val: 0.9722\n",
            "Epoch: 0057 loss_train: 0.3522 acc_train: 0.8987 loss_val: 0.2086 acc_val: 0.9722\n",
            "Epoch: 0058 loss_train: 0.3475 acc_train: 0.8711 loss_val: 0.2008 acc_val: 0.9722\n",
            "Epoch: 0059 loss_train: 0.4137 acc_train: 0.8600 loss_val: 0.1938 acc_val: 0.9722\n",
            "Epoch: 0060 loss_train: 0.3598 acc_train: 0.9116 loss_val: 0.1872 acc_val: 0.9722\n",
            "Epoch: 0061 loss_train: 0.2942 acc_train: 0.9171 loss_val: 0.1814 acc_val: 0.9722\n",
            "Epoch: 0062 loss_train: 0.3469 acc_train: 0.8840 loss_val: 0.1758 acc_val: 0.9861\n",
            "Epoch: 0063 loss_train: 0.3451 acc_train: 0.8674 loss_val: 0.1707 acc_val: 0.9861\n",
            "Epoch: 0064 loss_train: 0.3392 acc_train: 0.9061 loss_val: 0.1658 acc_val: 0.9861\n",
            "Epoch: 0065 loss_train: 0.3643 acc_train: 0.8692 loss_val: 0.1611 acc_val: 0.9861\n",
            "Epoch: 0066 loss_train: 0.2907 acc_train: 0.9319 loss_val: 0.1570 acc_val: 0.9861\n",
            "Epoch: 0067 loss_train: 0.3199 acc_train: 0.8803 loss_val: 0.1525 acc_val: 0.9722\n",
            "Epoch: 0068 loss_train: 0.3146 acc_train: 0.8877 loss_val: 0.1481 acc_val: 0.9722\n",
            "Epoch: 0069 loss_train: 0.3350 acc_train: 0.8877 loss_val: 0.1434 acc_val: 0.9722\n",
            "Epoch: 0070 loss_train: 0.2624 acc_train: 0.9374 loss_val: 0.1397 acc_val: 0.9722\n",
            "Epoch: 0071 loss_train: 0.2674 acc_train: 0.9282 loss_val: 0.1366 acc_val: 0.9722\n",
            "Epoch: 0072 loss_train: 0.2568 acc_train: 0.9319 loss_val: 0.1338 acc_val: 0.9722\n",
            "Epoch: 0073 loss_train: 0.2774 acc_train: 0.9006 loss_val: 0.1311 acc_val: 0.9722\n",
            "Epoch: 0074 loss_train: 0.2638 acc_train: 0.9245 loss_val: 0.1284 acc_val: 0.9722\n",
            "Epoch: 0075 loss_train: 0.2798 acc_train: 0.9006 loss_val: 0.1255 acc_val: 0.9722\n",
            "Epoch: 0076 loss_train: 0.2652 acc_train: 0.9263 loss_val: 0.1231 acc_val: 0.9722\n",
            "Epoch: 0077 loss_train: 0.2644 acc_train: 0.9245 loss_val: 0.1210 acc_val: 0.9722\n",
            "Epoch: 0078 loss_train: 0.2874 acc_train: 0.9116 loss_val: 0.1191 acc_val: 0.9722\n",
            "Epoch: 0079 loss_train: 0.2943 acc_train: 0.9171 loss_val: 0.1174 acc_val: 0.9722\n",
            "Epoch: 0080 loss_train: 0.2394 acc_train: 0.9337 loss_val: 0.1160 acc_val: 0.9722\n",
            "Epoch: 0081 loss_train: 0.2348 acc_train: 0.9282 loss_val: 0.1151 acc_val: 0.9722\n",
            "Epoch: 0082 loss_train: 0.2593 acc_train: 0.8950 loss_val: 0.1143 acc_val: 0.9722\n",
            "Epoch: 0083 loss_train: 0.2212 acc_train: 0.9319 loss_val: 0.1136 acc_val: 0.9861\n",
            "Epoch: 0084 loss_train: 0.2143 acc_train: 0.9374 loss_val: 0.1134 acc_val: 0.9861\n",
            "Epoch: 0085 loss_train: 0.2870 acc_train: 0.9153 loss_val: 0.1124 acc_val: 0.9861\n",
            "Epoch: 0086 loss_train: 0.2310 acc_train: 0.9227 loss_val: 0.1110 acc_val: 1.0000\n",
            "Epoch: 0087 loss_train: 0.2877 acc_train: 0.9337 loss_val: 0.1105 acc_val: 1.0000\n",
            "Epoch: 0088 loss_train: 0.2054 acc_train: 0.9319 loss_val: 0.1095 acc_val: 1.0000\n",
            "Epoch: 0089 loss_train: 0.2325 acc_train: 0.9300 loss_val: 0.1080 acc_val: 1.0000\n",
            "Epoch: 0090 loss_train: 0.2462 acc_train: 0.9153 loss_val: 0.1063 acc_val: 1.0000\n",
            "Epoch: 0091 loss_train: 0.1890 acc_train: 0.9337 loss_val: 0.1048 acc_val: 1.0000\n",
            "Epoch: 0092 loss_train: 0.2424 acc_train: 0.9042 loss_val: 0.1025 acc_val: 0.9861\n",
            "Epoch: 0093 loss_train: 0.2569 acc_train: 0.9263 loss_val: 0.1002 acc_val: 0.9861\n",
            "Epoch: 0094 loss_train: 0.2134 acc_train: 0.9282 loss_val: 0.0977 acc_val: 0.9861\n",
            "Epoch: 0095 loss_train: 0.2182 acc_train: 0.9337 loss_val: 0.0954 acc_val: 0.9722\n",
            "Epoch: 0096 loss_train: 0.3351 acc_train: 0.8692 loss_val: 0.0931 acc_val: 0.9722\n",
            "Epoch: 0097 loss_train: 0.2220 acc_train: 0.9319 loss_val: 0.0915 acc_val: 0.9722\n",
            "Epoch: 0098 loss_train: 0.2542 acc_train: 0.8950 loss_val: 0.0902 acc_val: 0.9722\n",
            "Epoch: 0099 loss_train: 0.2383 acc_train: 0.9263 loss_val: 0.0891 acc_val: 0.9722\n",
            "Epoch: 0100 loss_train: 0.2624 acc_train: 0.9190 loss_val: 0.0880 acc_val: 0.9722\n",
            "Epoch: 0101 loss_train: 0.2317 acc_train: 0.9392 loss_val: 0.0871 acc_val: 0.9722\n",
            "Epoch: 0102 loss_train: 0.2197 acc_train: 0.9337 loss_val: 0.0863 acc_val: 0.9722\n",
            "Epoch: 0103 loss_train: 0.2182 acc_train: 0.9355 loss_val: 0.0855 acc_val: 0.9722\n",
            "Epoch: 0104 loss_train: 0.1917 acc_train: 0.9374 loss_val: 0.0848 acc_val: 0.9722\n",
            "Epoch: 0105 loss_train: 0.2101 acc_train: 0.9263 loss_val: 0.0841 acc_val: 0.9722\n",
            "Epoch: 0106 loss_train: 0.2565 acc_train: 0.9429 loss_val: 0.0835 acc_val: 0.9722\n",
            "Epoch: 0107 loss_train: 0.2560 acc_train: 0.9282 loss_val: 0.0832 acc_val: 0.9722\n",
            "Epoch: 0108 loss_train: 0.2177 acc_train: 0.9319 loss_val: 0.0829 acc_val: 0.9722\n",
            "Epoch: 0109 loss_train: 0.1983 acc_train: 0.9300 loss_val: 0.0828 acc_val: 0.9722\n",
            "Epoch: 0110 loss_train: 0.1924 acc_train: 0.9503 loss_val: 0.0828 acc_val: 0.9722\n",
            "Epoch: 0111 loss_train: 0.2069 acc_train: 0.9263 loss_val: 0.0827 acc_val: 0.9722\n",
            "Epoch: 0112 loss_train: 0.2301 acc_train: 0.9042 loss_val: 0.0822 acc_val: 0.9722\n",
            "Epoch: 0113 loss_train: 0.2220 acc_train: 0.9116 loss_val: 0.0815 acc_val: 0.9722\n",
            "Epoch: 0114 loss_train: 0.2200 acc_train: 0.9300 loss_val: 0.0807 acc_val: 0.9722\n",
            "Epoch: 0115 loss_train: 0.2119 acc_train: 0.9374 loss_val: 0.0804 acc_val: 0.9722\n",
            "Epoch: 0116 loss_train: 0.2336 acc_train: 0.9042 loss_val: 0.0800 acc_val: 0.9722\n",
            "Epoch: 0117 loss_train: 0.1989 acc_train: 0.9300 loss_val: 0.0795 acc_val: 0.9722\n",
            "Epoch: 0118 loss_train: 0.1824 acc_train: 0.9337 loss_val: 0.0792 acc_val: 0.9861\n",
            "Epoch: 0119 loss_train: 0.2134 acc_train: 0.9245 loss_val: 0.0794 acc_val: 0.9861\n",
            "Epoch: 0120 loss_train: 0.1922 acc_train: 0.9374 loss_val: 0.0800 acc_val: 0.9861\n",
            "Epoch: 0121 loss_train: 0.2418 acc_train: 0.9153 loss_val: 0.0811 acc_val: 0.9861\n",
            "Epoch: 0122 loss_train: 0.1904 acc_train: 0.9208 loss_val: 0.0816 acc_val: 1.0000\n",
            "Epoch: 0123 loss_train: 0.1668 acc_train: 0.9521 loss_val: 0.0819 acc_val: 1.0000\n",
            "Epoch: 0124 loss_train: 0.1560 acc_train: 0.9503 loss_val: 0.0822 acc_val: 1.0000\n",
            "Epoch: 0125 loss_train: 0.1956 acc_train: 0.9411 loss_val: 0.0829 acc_val: 1.0000\n",
            "Epoch: 0126 loss_train: 0.2122 acc_train: 0.9208 loss_val: 0.0820 acc_val: 1.0000\n",
            "Epoch: 0127 loss_train: 0.1949 acc_train: 0.9263 loss_val: 0.0810 acc_val: 1.0000\n",
            "Epoch: 0128 loss_train: 0.1767 acc_train: 0.9374 loss_val: 0.0806 acc_val: 1.0000\n",
            "Epoch: 0129 loss_train: 0.2736 acc_train: 0.8950 loss_val: 0.0793 acc_val: 1.0000\n",
            "Epoch: 0130 loss_train: 0.1725 acc_train: 0.9374 loss_val: 0.0780 acc_val: 1.0000\n",
            "Epoch: 0131 loss_train: 0.2336 acc_train: 0.9079 loss_val: 0.0758 acc_val: 1.0000\n",
            "Epoch: 0132 loss_train: 0.1945 acc_train: 0.9411 loss_val: 0.0742 acc_val: 0.9861\n",
            "Epoch: 0133 loss_train: 0.1808 acc_train: 0.9411 loss_val: 0.0731 acc_val: 0.9861\n",
            "Epoch: 0134 loss_train: 0.1659 acc_train: 0.9374 loss_val: 0.0722 acc_val: 0.9861\n",
            "Epoch: 0135 loss_train: 0.1785 acc_train: 0.9355 loss_val: 0.0716 acc_val: 0.9861\n",
            "Epoch: 0136 loss_train: 0.2218 acc_train: 0.9042 loss_val: 0.0706 acc_val: 0.9861\n",
            "Epoch: 0137 loss_train: 0.1912 acc_train: 0.9319 loss_val: 0.0701 acc_val: 0.9861\n",
            "Epoch: 0138 loss_train: 0.2416 acc_train: 0.9227 loss_val: 0.0701 acc_val: 0.9861\n",
            "Epoch: 0139 loss_train: 0.1750 acc_train: 0.9374 loss_val: 0.0703 acc_val: 0.9861\n",
            "Epoch: 0140 loss_train: 0.2053 acc_train: 0.9134 loss_val: 0.0699 acc_val: 0.9861\n",
            "Epoch: 0141 loss_train: 0.1809 acc_train: 0.9355 loss_val: 0.0697 acc_val: 0.9861\n",
            "Epoch: 0142 loss_train: 0.1766 acc_train: 0.9300 loss_val: 0.0695 acc_val: 0.9861\n",
            "Epoch: 0143 loss_train: 0.1776 acc_train: 0.9411 loss_val: 0.0694 acc_val: 0.9861\n",
            "Epoch: 0144 loss_train: 0.2860 acc_train: 0.8711 loss_val: 0.0691 acc_val: 0.9861\n",
            "Epoch: 0145 loss_train: 0.1960 acc_train: 0.9319 loss_val: 0.0693 acc_val: 0.9861\n",
            "Epoch: 0146 loss_train: 0.1546 acc_train: 0.9558 loss_val: 0.0693 acc_val: 0.9861\n",
            "Epoch: 0147 loss_train: 0.1812 acc_train: 0.9466 loss_val: 0.0694 acc_val: 0.9861\n",
            "Epoch: 0148 loss_train: 0.1726 acc_train: 0.9540 loss_val: 0.0692 acc_val: 0.9861\n",
            "Epoch: 0149 loss_train: 0.2136 acc_train: 0.9374 loss_val: 0.0688 acc_val: 0.9861\n",
            "Epoch: 0150 loss_train: 0.1606 acc_train: 0.9392 loss_val: 0.0685 acc_val: 0.9861\n",
            "Epoch: 0151 loss_train: 0.2150 acc_train: 0.9337 loss_val: 0.0687 acc_val: 0.9861\n",
            "Epoch: 0152 loss_train: 0.1605 acc_train: 0.9576 loss_val: 0.0687 acc_val: 0.9861\n",
            "Epoch: 0153 loss_train: 0.1717 acc_train: 0.9521 loss_val: 0.0687 acc_val: 0.9861\n",
            "Epoch: 0154 loss_train: 0.1923 acc_train: 0.9484 loss_val: 0.0685 acc_val: 0.9861\n",
            "Epoch: 0155 loss_train: 0.2038 acc_train: 0.9190 loss_val: 0.0679 acc_val: 0.9861\n",
            "Epoch: 0156 loss_train: 0.2198 acc_train: 0.9134 loss_val: 0.0668 acc_val: 0.9861\n",
            "Epoch: 0157 loss_train: 0.1996 acc_train: 0.9227 loss_val: 0.0657 acc_val: 0.9861\n",
            "Epoch: 0158 loss_train: 0.1826 acc_train: 0.9355 loss_val: 0.0652 acc_val: 0.9861\n",
            "Epoch: 0159 loss_train: 0.2195 acc_train: 0.9079 loss_val: 0.0645 acc_val: 0.9861\n",
            "Epoch: 0160 loss_train: 0.2004 acc_train: 0.9374 loss_val: 0.0644 acc_val: 0.9861\n",
            "Epoch: 0161 loss_train: 0.1590 acc_train: 0.9466 loss_val: 0.0644 acc_val: 0.9861\n",
            "Epoch: 0162 loss_train: 0.2502 acc_train: 0.8932 loss_val: 0.0644 acc_val: 0.9861\n",
            "Epoch: 0163 loss_train: 0.1931 acc_train: 0.9355 loss_val: 0.0643 acc_val: 0.9861\n",
            "Epoch: 0164 loss_train: 0.1892 acc_train: 0.9355 loss_val: 0.0642 acc_val: 0.9861\n",
            "Epoch: 0165 loss_train: 0.1752 acc_train: 0.9521 loss_val: 0.0641 acc_val: 0.9861\n",
            "Epoch: 0166 loss_train: 0.1978 acc_train: 0.9300 loss_val: 0.0640 acc_val: 0.9861\n",
            "Epoch: 0167 loss_train: 0.1801 acc_train: 0.9411 loss_val: 0.0638 acc_val: 0.9861\n",
            "Epoch: 0168 loss_train: 0.1590 acc_train: 0.9411 loss_val: 0.0636 acc_val: 0.9861\n",
            "Epoch: 0169 loss_train: 0.1825 acc_train: 0.9429 loss_val: 0.0634 acc_val: 0.9861\n",
            "Epoch: 0170 loss_train: 0.2313 acc_train: 0.9208 loss_val: 0.0631 acc_val: 0.9861\n",
            "Epoch: 0171 loss_train: 0.1867 acc_train: 0.9558 loss_val: 0.0627 acc_val: 0.9861\n",
            "Epoch: 0172 loss_train: 0.2178 acc_train: 0.9098 loss_val: 0.0622 acc_val: 0.9861\n",
            "Epoch: 0173 loss_train: 0.1542 acc_train: 0.9448 loss_val: 0.0620 acc_val: 0.9861\n",
            "Epoch: 0174 loss_train: 0.1648 acc_train: 0.9484 loss_val: 0.0619 acc_val: 0.9861\n",
            "Epoch: 0175 loss_train: 0.1781 acc_train: 0.9337 loss_val: 0.0617 acc_val: 0.9861\n",
            "Epoch: 0176 loss_train: 0.1839 acc_train: 0.9466 loss_val: 0.0612 acc_val: 0.9861\n",
            "Epoch: 0177 loss_train: 0.1841 acc_train: 0.9319 loss_val: 0.0607 acc_val: 0.9861\n",
            "Epoch: 0178 loss_train: 0.1435 acc_train: 0.9484 loss_val: 0.0605 acc_val: 0.9861\n",
            "Epoch: 0179 loss_train: 0.1498 acc_train: 0.9429 loss_val: 0.0603 acc_val: 0.9861\n",
            "Epoch: 0180 loss_train: 0.1495 acc_train: 0.9503 loss_val: 0.0604 acc_val: 0.9861\n",
            "Epoch: 0181 loss_train: 0.1778 acc_train: 0.9558 loss_val: 0.0605 acc_val: 0.9861\n",
            "Epoch: 0182 loss_train: 0.1751 acc_train: 0.9411 loss_val: 0.0606 acc_val: 1.0000\n",
            "Epoch: 0183 loss_train: 0.1700 acc_train: 0.9392 loss_val: 0.0608 acc_val: 1.0000\n",
            "Epoch: 0184 loss_train: 0.1761 acc_train: 0.9355 loss_val: 0.0607 acc_val: 1.0000\n",
            "Epoch: 0185 loss_train: 0.1213 acc_train: 0.9595 loss_val: 0.0609 acc_val: 1.0000\n",
            "Epoch: 0186 loss_train: 0.1979 acc_train: 0.9190 loss_val: 0.0605 acc_val: 1.0000\n",
            "Epoch: 0187 loss_train: 0.1833 acc_train: 0.9411 loss_val: 0.0608 acc_val: 1.0000\n",
            "Epoch: 0188 loss_train: 0.1642 acc_train: 0.9576 loss_val: 0.0608 acc_val: 1.0000\n",
            "Epoch: 0189 loss_train: 0.1632 acc_train: 0.9466 loss_val: 0.0602 acc_val: 1.0000\n",
            "Epoch: 0190 loss_train: 0.1690 acc_train: 0.9392 loss_val: 0.0600 acc_val: 1.0000\n",
            "Epoch: 0191 loss_train: 0.1682 acc_train: 0.9355 loss_val: 0.0602 acc_val: 1.0000\n",
            "Epoch: 0192 loss_train: 0.1559 acc_train: 0.9632 loss_val: 0.0598 acc_val: 1.0000\n",
            "Epoch: 0193 loss_train: 0.1578 acc_train: 0.9503 loss_val: 0.0596 acc_val: 1.0000\n",
            "Epoch: 0194 loss_train: 0.1626 acc_train: 0.9374 loss_val: 0.0594 acc_val: 1.0000\n",
            "Epoch: 0195 loss_train: 0.1623 acc_train: 0.9448 loss_val: 0.0587 acc_val: 1.0000\n",
            "Epoch: 0196 loss_train: 0.1447 acc_train: 0.9669 loss_val: 0.0580 acc_val: 1.0000\n",
            "Epoch: 0197 loss_train: 0.1622 acc_train: 0.9540 loss_val: 0.0574 acc_val: 1.0000\n",
            "Epoch: 0198 loss_train: 0.1715 acc_train: 0.9429 loss_val: 0.0568 acc_val: 1.0000\n",
            "Epoch: 0199 loss_train: 0.1539 acc_train: 0.9355 loss_val: 0.0567 acc_val: 1.0000\n",
            "Epoch: 0200 loss_train: 0.2164 acc_train: 0.9024 loss_val: 0.0561 acc_val: 1.0000\n"
          ]
        }
      ],
      "source": [
        "for epoch in range(epochs):\n",
        "    train(epoch)"
      ],
      "id": "29547426"
    },
    {
      "cell_type": "code",
      "source": [
        "def test():\n",
        "    model.eval()\n",
        "    output = model(features, adj)\n",
        "\n",
        "    loss_test = F.nll_loss(output[idx_test], labels[idx_test])\n",
        "    acc_test = accuracy(output[idx_test], labels[idx_test])\n",
        "    \n",
        "    print(\"Test set results:\",\n",
        "          \"loss= {:.4f}\".format(loss_test.item()),\n",
        "          \"accuracy= {:.4f}\".format(acc_test.item()))"
      ],
      "metadata": {
        "id": "fXs5KGBv7AW8"
      },
      "id": "fXs5KGBv7AW8",
      "execution_count": 57,
      "outputs": []
    },
    {
      "cell_type": "code",
      "execution_count": 58,
      "metadata": {
        "id": "5b4f5c9a",
        "colab": {
          "base_uri": "https://localhost:8080/"
        },
        "outputId": "47828538-183c-4196-e1e7-8ebd14f5bbd3"
      },
      "outputs": [
        {
          "output_type": "stream",
          "name": "stdout",
          "text": [
            "Test set results: loss= 0.0848 accuracy= 0.9908\n"
          ]
        }
      ],
      "source": [
        "test()"
      ],
      "id": "5b4f5c9a"
    }
  ],
  "metadata": {
    "colab": {
      "collapsed_sections": [
        "59b1e59a"
      ],
      "provenance": []
    },
    "kernelspec": {
      "display_name": "Python 3 (ipykernel)",
      "language": "python",
      "name": "python3"
    },
    "language_info": {
      "codemirror_mode": {
        "name": "ipython",
        "version": 3
      },
      "file_extension": ".py",
      "mimetype": "text/x-python",
      "name": "python",
      "nbconvert_exporter": "python",
      "pygments_lexer": "ipython3",
      "version": "3.9.7"
    }
  },
  "nbformat": 4,
  "nbformat_minor": 5
}