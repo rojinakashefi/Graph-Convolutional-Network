{
  "nbformat": 4,
  "nbformat_minor": 0,
  "metadata": {
    "colab": {
      "provenance": []
    },
    "kernelspec": {
      "name": "python3",
      "display_name": "Python 3"
    },
    "language_info": {
      "name": "python"
    }
  },
  "cells": [
    {
      "cell_type": "code",
      "source": [
        "import networkx as nx\n",
        "import numpy as np\n",
        "import matplotlib.pyplot as plt\n",
        "from scipy.linalg import fractional_matrix_power"
      ],
      "metadata": {
        "id": "vq4Ucs2Crh8x"
      },
      "execution_count": 3,
      "outputs": []
    },
    {
      "cell_type": "code",
      "source": [
        "\n",
        "import warnings\n",
        "warnings.filterwarnings(\"ignore\", category=UserWarning)\n"
      ],
      "metadata": {
        "id": "bYbqSiXXrkCV"
      },
      "execution_count": 4,
      "outputs": []
    },
    {
      "cell_type": "code",
      "source": [
        "#Initialize the graph\n",
        "G = nx.Graph(name='G')"
      ],
      "metadata": {
        "id": "sa9NNYZ8rk7n"
      },
      "execution_count": 5,
      "outputs": []
    },
    {
      "cell_type": "code",
      "source": [
        "#Create nodes\n",
        "#In this example, the graph will consist of 6 nodes.\n",
        "#Each node is assigned node feature which corresponds to the node name\n",
        "for i in range(6):\n",
        "    G.add_node(i, name=i)"
      ],
      "metadata": {
        "id": "EhiengZ3rpw_"
      },
      "execution_count": 6,
      "outputs": []
    },
    {
      "cell_type": "code",
      "source": [
        "#Define the edges and the edges to the graph\n",
        "edges = [(0,1),(0,2),(1,2),(0,3),(3,4),(3,5),(4,5)]\n",
        "G.add_edges_from(edges)"
      ],
      "metadata": {
        "id": "t_xCYRLErthY"
      },
      "execution_count": 7,
      "outputs": []
    },
    {
      "cell_type": "code",
      "source": [
        "#See graph info\n",
        "print('Number of nodes', len(G.nodes))\n",
        "print('Number of edges', len(G.edges))\n",
        "print('Average degree', sum(dict(G.degree).values()) / len(G.nodes))\n",
        "#Inspect the node features\n",
        "print('\\nGraph Nodes: ', G.nodes.data())"
      ],
      "metadata": {
        "colab": {
          "base_uri": "https://localhost:8080/"
        },
        "id": "le0vR_1iryuL",
        "outputId": "7466d0f5-6263-40ea-e99b-15d4accdffe2"
      },
      "execution_count": 8,
      "outputs": [
        {
          "output_type": "stream",
          "name": "stdout",
          "text": [
            "Number of nodes 6\n",
            "Number of edges 7\n",
            "Average degree 2.3333333333333335\n",
            "\n",
            "Graph Nodes:  [(0, {'name': 0}), (1, {'name': 1}), (2, {'name': 2}), (3, {'name': 3}), (4, {'name': 4}), (5, {'name': 5})]\n"
          ]
        }
      ]
    },
    {
      "cell_type": "code",
      "execution_count": 9,
      "metadata": {
        "colab": {
          "base_uri": "https://localhost:8080/",
          "height": 516
        },
        "id": "Ls1W1_GwrK2_",
        "outputId": "8df72baa-e023-46dc-9a56-f7d826ae4c28"
      },
      "outputs": [
        {
          "output_type": "display_data",
          "data": {
            "text/plain": [
              "<Figure size 640x480 with 1 Axes>"
            ],
            "image/png": "[encoded data removed]"
          },
          "metadata": {}
        }
      ],
      "source": [
        "#Plot the graph\n",
        "nx.draw(G, with_labels=True, font_weight='bold')\n",
        "plt.show()"
      ]
    },
    {
      "cell_type": "markdown",
      "source": [
        "https://miro.medium.com/v2/resize:fit:786/format:webp/1*2cT063K_PIvJVRqFn8c5gg.png"
      ],
      "metadata": {
        "id": "85PKEot0sOgm"
      }
    },
    {
      "cell_type": "code",
      "source": [
        "#Get the Adjacency Matrix (A) and Node Features Matrix (X) as numpy array\n",
        "A = np.array(nx.attr_matrix(G, node_attr='name')[0])\n",
        "X = np.array(nx.attr_matrix(G, node_attr='name')[1])\n",
        "print(X)\n",
        "X = np.expand_dims(X,axis=1)\n",
        "\n",
        "print('Shape of A: ', A.shape)\n",
        "print('\\nShape of X: ', X.shape)\n",
        "print('\\nAdjacency Matrix (A):\\n', A)\n",
        "print('\\nNode Features Matrix (X):\\n', X)"
      ],
      "metadata": {
        "colab": {
          "base_uri": "https://localhost:8080/"
        },
        "id": "fxg5Anq3sP2k",
        "outputId": "f2cb3a83-c18e-4664-d9b7-f0278258ebf0"
      },
      "execution_count": 11,
      "outputs": [
        {
          "output_type": "stream",
          "name": "stdout",
          "text": [
            "[0 1 2 3 4 5]\n",
            "Shape of A:  (6, 6)\n",
            "\n",
            "Shape of X:  (6, 1)\n",
            "\n",
            "Adjacency Matrix (A):\n",
            " [[0. 1. 1. 1. 0. 0.]\n",
            " [1. 0. 1. 0. 0. 0.]\n",
            " [1. 1. 0. 0. 0. 0.]\n",
            " [1. 0. 0. 0. 1. 1.]\n",
            " [0. 0. 0. 1. 0. 1.]\n",
            " [0. 0. 0. 1. 1. 0.]]\n",
            "\n",
            "Node Features Matrix (X):\n",
            " [[0]\n",
            " [1]\n",
            " [2]\n",
            " [3]\n",
            " [4]\n",
            " [5]]\n"
          ]
        }
      ]
    },
    {
      "cell_type": "markdown",
      "source": [
        "It is apparent that AX represents the sum of neighboring nodes features.For example, the first row of AX corresponds to the sum of nodes features connected to node 0, which is node 1, 2, and 3."
      ],
      "metadata": {
        "id": "0W8g7Hoys_np"
      }
    },
    {
      "cell_type": "code",
      "source": [
        "#Dot product Adjacency Matrix (A) and Node Features (X)\n",
        "AX = np.dot(A,X)\n",
        "print(\"Dot product of A and X (AX):\\n\", AX)"
      ],
      "metadata": {
        "colab": {
          "base_uri": "https://localhost:8080/"
        },
        "id": "oHS-G7FFszFU",
        "outputId": "a7266eb8-9e01-4948-ffce-2cf9d0635170"
      },
      "execution_count": 12,
      "outputs": [
        {
          "output_type": "stream",
          "name": "stdout",
          "text": [
            "Dot product of A and X (AX):\n",
            " [[6.]\n",
            " [2.]\n",
            " [1.]\n",
            " [9.]\n",
            " [8.]\n",
            " [7.]]\n"
          ]
        }
      ]
    },
    {
      "cell_type": "markdown",
      "source": [
        "AX sums up the adjacent node features. It does not take into account the features of the node itself."
      ],
      "metadata": {
        "id": "NK2b4xC5uk5m"
      }
    },
    {
      "cell_type": "markdown",
      "source": [
        "1. ADD Self loops"
      ],
      "metadata": {
        "id": "g2DfOEdSvKhf"
      }
    },
    {
      "cell_type": "code",
      "source": [
        "#Add Self Loops\n",
        "G_self_loops = G.copy()\n",
        "\n",
        "self_loops = []\n",
        "for i in range(G.number_of_nodes()):\n",
        "    self_loops.append((i,i))\n",
        "\n",
        "G_self_loops.add_edges_from(self_loops)\n",
        "\n",
        "#Check the edges of G_self_loops after adding the self loops\n",
        "print('Edges of G with self-loops:\\n', G_self_loops.edges)\n",
        "\n",
        "#Get the Adjacency Matrix (A) and Node Features Matrix (X) of added self-lopps graph\n",
        "A_hat = np.array(nx.attr_matrix(G_self_loops, node_attr='name')[0])\n",
        "print('Adjacency Matrix of added self-loops G (A_hat):\\n', A_hat)\n",
        "\n",
        "#Calculate the dot product of A_hat and X (AX)\n",
        "AX = np.dot(A_hat, X)\n",
        "print('AX:\\n', AX)"
      ],
      "metadata": {
        "colab": {
          "base_uri": "https://localhost:8080/"
        },
        "id": "yoNsWkYMupUK",
        "outputId": "08029371-7a55-4a84-da58-518e241e456c"
      },
      "execution_count": 14,
      "outputs": [
        {
          "output_type": "stream",
          "name": "stdout",
          "text": [
            "Edges of G with self-loops:\n",
            " [(0, 1), (0, 2), (0, 3), (0, 0), (1, 2), (1, 1), (2, 2), (3, 4), (3, 5), (3, 3), (4, 5), (4, 4), (5, 5)]\n",
            "Adjacency Matrix of added self-loops G (A_hat):\n",
            " [[1. 1. 1. 1. 0. 0.]\n",
            " [1. 1. 1. 0. 0. 0.]\n",
            " [1. 1. 1. 0. 0. 0.]\n",
            " [1. 0. 0. 1. 1. 1.]\n",
            " [0. 0. 0. 1. 1. 1.]\n",
            " [0. 0. 0. 1. 1. 1.]]\n",
            "AX:\n",
            " [[ 6.]\n",
            " [ 3.]\n",
            " [ 3.]\n",
            " [12.]\n",
            " [12.]\n",
            " [12.]]\n"
          ]
        }
      ]
    },
    {
      "cell_type": "code",
      "source": [
        "nx.draw(G_self_loops, with_labels=True, font_weight='bold')\n",
        "plt.show()"
      ],
      "metadata": {
        "colab": {
          "base_uri": "https://localhost:8080/",
          "height": 516
        },
        "id": "igrjYuXUyy4p",
        "outputId": "f5ce70d1-cf02-4ce0-a77a-49b4548e36e7"
      },
      "execution_count": 17,
      "outputs": [
        {
          "output_type": "display_data",
          "data": {
            "text/plain": [
              "<Figure size 640x480 with 1 Axes>"
            ],
            "image/png": "[encoded data removed]"
          },
          "metadata": {}
        }
      ]
    },
    {
      "cell_type": "markdown",
      "source": [
        "2. Normalized elements :\n",
        "\n",
        " Similar to data pre-processing for any Neural Networks operation, we need to normalize the features to prevent numerical instabilities and vanishing/exploding gradients in order for the model to converge. In GCNs, we normalize our data by calculating the Degree Matrix (D) and performing dot product operation of the inverse of D with AX."
      ],
      "metadata": {
        "id": "leQDRzJjvPrs"
      }
    },
    {
      "cell_type": "markdown",
      "source": [
        " “degree” refers to the number of edges a node is connected to.\n",
        "\n"
      ],
      "metadata": {
        "id": "0C89odP8v3en"
      }
    },
    {
      "cell_type": "code",
      "source": [
        "#Get the Degree Matrix of the added self-loops graph\n",
        "Deg_Mat = G_self_loops.degree()\n",
        "print('Degree Matrix of added self-loops G (D): ', Deg_Mat)\n",
        "\n",
        "#Convert the Degree Matrix to a N x N matrix where N is the number of nodes\n",
        "D = np.diag([deg for (n,deg) in list(Deg_Mat)])\n",
        "print('Degree Matrix of added self-loops G as numpy array (D):\\n', D)\n",
        "\n",
        "#Find the inverse of Degree Matrix (D)\n",
        "D_inv = np.linalg.inv(D)\n",
        "print('Inverse of D:\\n', D_inv)\n",
        "\n",
        "#Dot product of D and AX for normalization\n",
        "DAX = np.dot(D_inv,AX)\n",
        "print('DAX:\\n', DAX)"
      ],
      "metadata": {
        "colab": {
          "base_uri": "https://localhost:8080/"
        },
        "id": "ggU6r45Ov6U8",
        "outputId": "ca7e6000-f5ec-4418-cbea-44f80d428878"
      },
      "execution_count": 15,
      "outputs": [
        {
          "output_type": "stream",
          "name": "stdout",
          "text": [
            "Degree Matrix of added self-loops G (D):  [(0, 5), (1, 4), (2, 4), (3, 5), (4, 4), (5, 4)]\n",
            "Degree Matrix of added self-loops G as numpy array (D):\n",
            " [[5 0 0 0 0 0]\n",
            " [0 4 0 0 0 0]\n",
            " [0 0 4 0 0 0]\n",
            " [0 0 0 5 0 0]\n",
            " [0 0 0 0 4 0]\n",
            " [0 0 0 0 0 4]]\n",
            "Inverse of D:\n",
            " [[0.2  0.   0.   0.   0.   0.  ]\n",
            " [0.   0.25 0.   0.   0.   0.  ]\n",
            " [0.   0.   0.25 0.   0.   0.  ]\n",
            " [0.   0.   0.   0.2  0.   0.  ]\n",
            " [0.   0.   0.   0.   0.25 0.  ]\n",
            " [0.   0.   0.   0.   0.   0.25]]\n",
            "DAX:\n",
            " [[1.2 ]\n",
            " [0.75]\n",
            " [0.75]\n",
            " [2.4 ]\n",
            " [3.  ]\n",
            " [3.  ]]\n"
          ]
        }
      ]
    },
    {
      "cell_type": "markdown",
      "source": [
        " the lower the degree of a node, the stronger that a node belongs to a certain group or cluster."
      ],
      "metadata": {
        "id": "eS9zvFHezxvZ"
      }
    },
    {
      "cell_type": "markdown",
      "source": [
        "new symmetric normalization equation"
      ],
      "metadata": {
        "id": "-NBPjQ4iz0oC"
      }
    },
    {
      "cell_type": "code",
      "source": [
        "D_half_norm = fractional_matrix_power(D, -0.5)\n",
        "DADX = D_half_norm.dot(A_hat).dot(D_half_norm).dot(X)\n",
        "print('DADX:\\n', DADX)"
      ],
      "metadata": {
        "colab": {
          "base_uri": "https://localhost:8080/"
        },
        "id": "DObTsUewz3dS",
        "outputId": "1d3ffe50-18bb-4f1e-c8bc-a0605c601201"
      },
      "execution_count": 18,
      "outputs": [
        {
          "output_type": "stream",
          "name": "stdout",
          "text": [
            "DADX:\n",
            " [[1.27082039]\n",
            " [0.75      ]\n",
            " [0.75      ]\n",
            " [2.61246118]\n",
            " [2.92082039]\n",
            " [2.92082039]]\n"
          ]
        }
      ]
    },
    {
      "cell_type": "markdown",
      "source": [
        "built A* lets add Weights and Activation Functions"
      ],
      "metadata": {
        "id": "3lxV_-I-0Nzj"
      }
    },
    {
      "cell_type": "code",
      "source": [
        "#Initialize the weights\n",
        "np.random.seed(77777)\n",
        "n_h = 4 #number of neurons in the hidden layer\n",
        "n_y = 2 #number of neurons in the output layer\n",
        "W0 = np.random.randn(X.shape[1],n_h) * 0.01\n",
        "W1 = np.random.randn(n_h,n_y) * 0.01\n",
        "\n",
        "#Implement ReLu as activation function\n",
        "def relu(x):\n",
        "    return np.maximum(0,x)\n",
        "\n",
        "#Build GCN layer\n",
        "#In this function, we implement numpy to simplify\n",
        "def gcn(A,H,W):\n",
        "    I = np.identity(A.shape[0]) #create Identity Matrix of A\n",
        "    A_hat = A + I #add self-loop to A\n",
        "    D = np.diag(np.sum(A_hat, axis=0)) #create Degree Matrix of A\n",
        "    D_half_norm = fractional_matrix_power(D, -0.5) #calculate D to the power of -0.5\n",
        "    eq = D_half_norm.dot(A_hat).dot(D_half_norm).dot(H).dot(W)\n",
        "    return relu(eq)\n",
        "\n",
        "\n",
        "#Do forward propagation\n",
        "H1 = gcn(A,X,W0)\n",
        "H2 = gcn(A,H1,W1)\n",
        "print('Features Representation from GCN output:\\n', H2)"
      ],
      "metadata": {
        "colab": {
          "base_uri": "https://localhost:8080/"
        },
        "id": "5-5k2lzZ5udJ",
        "outputId": "7f88f601-d13d-459b-8e21-83b803efe883"
      },
      "execution_count": 19,
      "outputs": [
        {
          "output_type": "stream",
          "name": "stdout",
          "text": [
            "Features Representation from GCN output:\n",
            " [[0.00027758 0.        ]\n",
            " [0.00017298 0.        ]\n",
            " [0.00017298 0.        ]\n",
            " [0.00053017 0.        ]\n",
            " [0.00054097 0.        ]\n",
            " [0.00054097 0.        ]]\n"
          ]
        }
      ]
    },
    {
      "cell_type": "markdown",
      "source": [
        "GCNs can already learn the feature representations even without **training** or **backpropagation**."
      ],
      "metadata": {
        "id": "vzdONOEU7CV2"
      }
    },
    {
      "cell_type": "code",
      "source": [
        "def plot_features(H2):\n",
        "    #Plot the features representation\n",
        "    x = H2[:,0]\n",
        "    y = H2[:,1]\n",
        "\n",
        "    size = 1000\n",
        "\n",
        "    plt.scatter(x,y,size)\n",
        "    plt.xlim([np.min(x)*0.9, np.max(x)*1.1])\n",
        "    plt.ylim([-1, 1])\n",
        "    plt.xlabel('Feature Representation Dimension 0')\n",
        "    plt.ylabel('Feature Representation Dimension 1')\n",
        "    plt.title('Feature Representation')\n",
        "\n",
        "    for i,row in enumerate(H2):\n",
        "        str = \"{}\".format(i)\n",
        "        plt.annotate(str, (row[0],row[1]),fontsize=18, fontweight='bold')\n",
        "\n",
        "    plt.show()\n",
        "\n",
        "\n",
        "plot_features(H2)"
      ],
      "metadata": {
        "colab": {
          "base_uri": "https://localhost:8080/",
          "height": 472
        },
        "id": "cIcTddx17BHb",
        "outputId": "1e370ca8-10af-4ea4-dbb8-0dc581160c69"
      },
      "execution_count": 20,
      "outputs": [
        {
          "output_type": "display_data",
          "data": {
            "text/plain": [
              "<Figure size 640x480 with 1 Axes>"
            ],
            "image/png": "[encoded data removed]"
          },
          "metadata": {}
        }
      ]
    }
  ]
}